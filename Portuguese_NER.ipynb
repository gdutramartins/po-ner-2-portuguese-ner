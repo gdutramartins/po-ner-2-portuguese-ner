{
  "nbformat": 4,
  "nbformat_minor": 0,
  "metadata": {
    "colab": {
      "name": "Portuguese-NER.ipynb",
      "provenance": [],
      "collapsed_sections": [],
      "toc_visible": true
    },
    "kernelspec": {
      "name": "python3",
      "display_name": "Python 3"
    },
    "language_info": {
      "name": "python"
    },
    "accelerator": "GPU",
    "widgets": {
      "application/vnd.jupyter.widget-state+json": {
        "a8c2b304f4954914adec956fd9a8026e": {
          "model_module": "@jupyter-widgets/controls",
          "model_name": "HBoxModel",
          "model_module_version": "1.5.0",
          "state": {
            "_view_name": "HBoxView",
            "_dom_classes": [],
            "_model_name": "HBoxModel",
            "_view_module": "@jupyter-widgets/controls",
            "_model_module_version": "1.5.0",
            "_view_count": null,
            "_view_module_version": "1.5.0",
            "box_style": "",
            "layout": "IPY_MODEL_0cf4327d5b32499da034274b2269cf2e",
            "_model_module": "@jupyter-widgets/controls",
            "children": [
              "IPY_MODEL_35c41d6248b74918bd495c01b58dd98b",
              "IPY_MODEL_8afabaf5e46a4bba9a21409e00fda6a9",
              "IPY_MODEL_895aa628d986421db903a0c041f25a69"
            ]
          }
        },
        "0cf4327d5b32499da034274b2269cf2e": {
          "model_module": "@jupyter-widgets/base",
          "model_name": "LayoutModel",
          "model_module_version": "1.2.0",
          "state": {
            "_view_name": "LayoutView",
            "grid_template_rows": null,
            "right": null,
            "justify_content": null,
            "_view_module": "@jupyter-widgets/base",
            "overflow": null,
            "_model_module_version": "1.2.0",
            "_view_count": null,
            "flex_flow": null,
            "width": null,
            "min_width": null,
            "border": null,
            "align_items": null,
            "bottom": null,
            "_model_module": "@jupyter-widgets/base",
            "top": null,
            "grid_column": null,
            "overflow_y": null,
            "overflow_x": null,
            "grid_auto_flow": null,
            "grid_area": null,
            "grid_template_columns": null,
            "flex": null,
            "_model_name": "LayoutModel",
            "justify_items": null,
            "grid_row": null,
            "max_height": null,
            "align_content": null,
            "visibility": null,
            "align_self": null,
            "height": null,
            "min_height": null,
            "padding": null,
            "grid_auto_rows": null,
            "grid_gap": null,
            "max_width": null,
            "order": null,
            "_view_module_version": "1.2.0",
            "grid_template_areas": null,
            "object_position": null,
            "object_fit": null,
            "grid_auto_columns": null,
            "margin": null,
            "display": null,
            "left": null
          }
        },
        "35c41d6248b74918bd495c01b58dd98b": {
          "model_module": "@jupyter-widgets/controls",
          "model_name": "HTMLModel",
          "model_module_version": "1.5.0",
          "state": {
            "_view_name": "HTMLView",
            "style": "IPY_MODEL_0f298afd57ee48c581912b70025b9a35",
            "_dom_classes": [],
            "description": "",
            "_model_name": "HTMLModel",
            "placeholder": "​",
            "_view_module": "@jupyter-widgets/controls",
            "_model_module_version": "1.5.0",
            "value": "Downloading: 100%",
            "_view_count": null,
            "_view_module_version": "1.5.0",
            "description_tooltip": null,
            "_model_module": "@jupyter-widgets/controls",
            "layout": "IPY_MODEL_cbfbb4e3be584a069020a4769af2367f"
          }
        },
        "8afabaf5e46a4bba9a21409e00fda6a9": {
          "model_module": "@jupyter-widgets/controls",
          "model_name": "FloatProgressModel",
          "model_module_version": "1.5.0",
          "state": {
            "_view_name": "ProgressView",
            "style": "IPY_MODEL_96404b23d5854020b731d0f0073541eb",
            "_dom_classes": [],
            "description": "",
            "_model_name": "FloatProgressModel",
            "bar_style": "success",
            "max": 43,
            "_view_module": "@jupyter-widgets/controls",
            "_model_module_version": "1.5.0",
            "value": 43,
            "_view_count": null,
            "_view_module_version": "1.5.0",
            "orientation": "horizontal",
            "min": 0,
            "description_tooltip": null,
            "_model_module": "@jupyter-widgets/controls",
            "layout": "IPY_MODEL_4c0ccc0d930147cebdabca167eb84089"
          }
        },
        "895aa628d986421db903a0c041f25a69": {
          "model_module": "@jupyter-widgets/controls",
          "model_name": "HTMLModel",
          "model_module_version": "1.5.0",
          "state": {
            "_view_name": "HTMLView",
            "style": "IPY_MODEL_c48780238b1b44cbb82231b1492a2805",
            "_dom_classes": [],
            "description": "",
            "_model_name": "HTMLModel",
            "placeholder": "​",
            "_view_module": "@jupyter-widgets/controls",
            "_model_module_version": "1.5.0",
            "value": " 43.0/43.0 [00:00&lt;00:00, 1.18kB/s]",
            "_view_count": null,
            "_view_module_version": "1.5.0",
            "description_tooltip": null,
            "_model_module": "@jupyter-widgets/controls",
            "layout": "IPY_MODEL_5b7370934efd4ce4bddaa8e38037c6d6"
          }
        },
        "0f298afd57ee48c581912b70025b9a35": {
          "model_module": "@jupyter-widgets/controls",
          "model_name": "DescriptionStyleModel",
          "model_module_version": "1.5.0",
          "state": {
            "_view_name": "StyleView",
            "_model_name": "DescriptionStyleModel",
            "description_width": "",
            "_view_module": "@jupyter-widgets/base",
            "_model_module_version": "1.5.0",
            "_view_count": null,
            "_view_module_version": "1.2.0",
            "_model_module": "@jupyter-widgets/controls"
          }
        },
        "cbfbb4e3be584a069020a4769af2367f": {
          "model_module": "@jupyter-widgets/base",
          "model_name": "LayoutModel",
          "model_module_version": "1.2.0",
          "state": {
            "_view_name": "LayoutView",
            "grid_template_rows": null,
            "right": null,
            "justify_content": null,
            "_view_module": "@jupyter-widgets/base",
            "overflow": null,
            "_model_module_version": "1.2.0",
            "_view_count": null,
            "flex_flow": null,
            "width": null,
            "min_width": null,
            "border": null,
            "align_items": null,
            "bottom": null,
            "_model_module": "@jupyter-widgets/base",
            "top": null,
            "grid_column": null,
            "overflow_y": null,
            "overflow_x": null,
            "grid_auto_flow": null,
            "grid_area": null,
            "grid_template_columns": null,
            "flex": null,
            "_model_name": "LayoutModel",
            "justify_items": null,
            "grid_row": null,
            "max_height": null,
            "align_content": null,
            "visibility": null,
            "align_self": null,
            "height": null,
            "min_height": null,
            "padding": null,
            "grid_auto_rows": null,
            "grid_gap": null,
            "max_width": null,
            "order": null,
            "_view_module_version": "1.2.0",
            "grid_template_areas": null,
            "object_position": null,
            "object_fit": null,
            "grid_auto_columns": null,
            "margin": null,
            "display": null,
            "left": null
          }
        },
        "96404b23d5854020b731d0f0073541eb": {
          "model_module": "@jupyter-widgets/controls",
          "model_name": "ProgressStyleModel",
          "model_module_version": "1.5.0",
          "state": {
            "_view_name": "StyleView",
            "_model_name": "ProgressStyleModel",
            "description_width": "",
            "_view_module": "@jupyter-widgets/base",
            "_model_module_version": "1.5.0",
            "_view_count": null,
            "_view_module_version": "1.2.0",
            "bar_color": null,
            "_model_module": "@jupyter-widgets/controls"
          }
        },
        "4c0ccc0d930147cebdabca167eb84089": {
          "model_module": "@jupyter-widgets/base",
          "model_name": "LayoutModel",
          "model_module_version": "1.2.0",
          "state": {
            "_view_name": "LayoutView",
            "grid_template_rows": null,
            "right": null,
            "justify_content": null,
            "_view_module": "@jupyter-widgets/base",
            "overflow": null,
            "_model_module_version": "1.2.0",
            "_view_count": null,
            "flex_flow": null,
            "width": null,
            "min_width": null,
            "border": null,
            "align_items": null,
            "bottom": null,
            "_model_module": "@jupyter-widgets/base",
            "top": null,
            "grid_column": null,
            "overflow_y": null,
            "overflow_x": null,
            "grid_auto_flow": null,
            "grid_area": null,
            "grid_template_columns": null,
            "flex": null,
            "_model_name": "LayoutModel",
            "justify_items": null,
            "grid_row": null,
            "max_height": null,
            "align_content": null,
            "visibility": null,
            "align_self": null,
            "height": null,
            "min_height": null,
            "padding": null,
            "grid_auto_rows": null,
            "grid_gap": null,
            "max_width": null,
            "order": null,
            "_view_module_version": "1.2.0",
            "grid_template_areas": null,
            "object_position": null,
            "object_fit": null,
            "grid_auto_columns": null,
            "margin": null,
            "display": null,
            "left": null
          }
        },
        "c48780238b1b44cbb82231b1492a2805": {
          "model_module": "@jupyter-widgets/controls",
          "model_name": "DescriptionStyleModel",
          "model_module_version": "1.5.0",
          "state": {
            "_view_name": "StyleView",
            "_model_name": "DescriptionStyleModel",
            "description_width": "",
            "_view_module": "@jupyter-widgets/base",
            "_model_module_version": "1.5.0",
            "_view_count": null,
            "_view_module_version": "1.2.0",
            "_model_module": "@jupyter-widgets/controls"
          }
        },
        "5b7370934efd4ce4bddaa8e38037c6d6": {
          "model_module": "@jupyter-widgets/base",
          "model_name": "LayoutModel",
          "model_module_version": "1.2.0",
          "state": {
            "_view_name": "LayoutView",
            "grid_template_rows": null,
            "right": null,
            "justify_content": null,
            "_view_module": "@jupyter-widgets/base",
            "overflow": null,
            "_model_module_version": "1.2.0",
            "_view_count": null,
            "flex_flow": null,
            "width": null,
            "min_width": null,
            "border": null,
            "align_items": null,
            "bottom": null,
            "_model_module": "@jupyter-widgets/base",
            "top": null,
            "grid_column": null,
            "overflow_y": null,
            "overflow_x": null,
            "grid_auto_flow": null,
            "grid_area": null,
            "grid_template_columns": null,
            "flex": null,
            "_model_name": "LayoutModel",
            "justify_items": null,
            "grid_row": null,
            "max_height": null,
            "align_content": null,
            "visibility": null,
            "align_self": null,
            "height": null,
            "min_height": null,
            "padding": null,
            "grid_auto_rows": null,
            "grid_gap": null,
            "max_width": null,
            "order": null,
            "_view_module_version": "1.2.0",
            "grid_template_areas": null,
            "object_position": null,
            "object_fit": null,
            "grid_auto_columns": null,
            "margin": null,
            "display": null,
            "left": null
          }
        }
      }
    }
  },
  "cells": [
    {
      "cell_type": "markdown",
      "metadata": {
        "id": "xhijF8-7W8aT"
      },
      "source": [
        "##  1- Instalação/Configuração/Import"
      ]
    },
    {
      "cell_type": "code",
      "metadata": {
        "id": "58NZQJZtYG3P",
        "colab": {
          "base_uri": "https://localhost:8080/"
        },
        "outputId": "092e3c91-bf62-4868-e39d-32810c789595"
      },
      "source": [
        "!pip install transformers\n",
        "!pip install ipymarkup"
      ],
      "execution_count": null,
      "outputs": [
        {
          "output_type": "stream",
          "name": "stdout",
          "text": [
            "Collecting transformers\n",
            "  Downloading transformers-4.11.3-py3-none-any.whl (2.9 MB)\n",
            "\u001b[K     |████████████████████████████████| 2.9 MB 2.7 MB/s \n",
            "\u001b[?25hCollecting sacremoses\n",
            "  Downloading sacremoses-0.0.46-py3-none-any.whl (895 kB)\n",
            "\u001b[K     |████████████████████████████████| 895 kB 48.6 MB/s \n",
            "\u001b[?25hCollecting huggingface-hub>=0.0.17\n",
            "  Downloading huggingface_hub-0.0.19-py3-none-any.whl (56 kB)\n",
            "\u001b[K     |████████████████████████████████| 56 kB 5.8 MB/s \n",
            "\u001b[?25hRequirement already satisfied: filelock in /usr/local/lib/python3.7/dist-packages (from transformers) (3.3.0)\n",
            "Requirement already satisfied: tqdm>=4.27 in /usr/local/lib/python3.7/dist-packages (from transformers) (4.62.3)\n",
            "Requirement already satisfied: packaging>=20.0 in /usr/local/lib/python3.7/dist-packages (from transformers) (21.0)\n",
            "Requirement already satisfied: requests in /usr/local/lib/python3.7/dist-packages (from transformers) (2.23.0)\n",
            "Collecting tokenizers<0.11,>=0.10.1\n",
            "  Downloading tokenizers-0.10.3-cp37-cp37m-manylinux_2_5_x86_64.manylinux1_x86_64.manylinux_2_12_x86_64.manylinux2010_x86_64.whl (3.3 MB)\n",
            "\u001b[K     |████████████████████████████████| 3.3 MB 57.9 MB/s \n",
            "\u001b[?25hRequirement already satisfied: regex!=2019.12.17 in /usr/local/lib/python3.7/dist-packages (from transformers) (2019.12.20)\n",
            "Collecting pyyaml>=5.1\n",
            "  Downloading PyYAML-5.4.1-cp37-cp37m-manylinux1_x86_64.whl (636 kB)\n",
            "\u001b[K     |████████████████████████████████| 636 kB 76.0 MB/s \n",
            "\u001b[?25hRequirement already satisfied: importlib-metadata in /usr/local/lib/python3.7/dist-packages (from transformers) (4.8.1)\n",
            "Requirement already satisfied: numpy>=1.17 in /usr/local/lib/python3.7/dist-packages (from transformers) (1.19.5)\n",
            "Requirement already satisfied: typing-extensions in /usr/local/lib/python3.7/dist-packages (from huggingface-hub>=0.0.17->transformers) (3.7.4.3)\n",
            "Requirement already satisfied: pyparsing>=2.0.2 in /usr/local/lib/python3.7/dist-packages (from packaging>=20.0->transformers) (2.4.7)\n",
            "Requirement already satisfied: zipp>=0.5 in /usr/local/lib/python3.7/dist-packages (from importlib-metadata->transformers) (3.6.0)\n",
            "Requirement already satisfied: certifi>=2017.4.17 in /usr/local/lib/python3.7/dist-packages (from requests->transformers) (2021.5.30)\n",
            "Requirement already satisfied: urllib3!=1.25.0,!=1.25.1,<1.26,>=1.21.1 in /usr/local/lib/python3.7/dist-packages (from requests->transformers) (1.24.3)\n",
            "Requirement already satisfied: chardet<4,>=3.0.2 in /usr/local/lib/python3.7/dist-packages (from requests->transformers) (3.0.4)\n",
            "Requirement already satisfied: idna<3,>=2.5 in /usr/local/lib/python3.7/dist-packages (from requests->transformers) (2.10)\n",
            "Requirement already satisfied: joblib in /usr/local/lib/python3.7/dist-packages (from sacremoses->transformers) (1.0.1)\n",
            "Requirement already satisfied: six in /usr/local/lib/python3.7/dist-packages (from sacremoses->transformers) (1.15.0)\n",
            "Requirement already satisfied: click in /usr/local/lib/python3.7/dist-packages (from sacremoses->transformers) (7.1.2)\n",
            "Installing collected packages: pyyaml, tokenizers, sacremoses, huggingface-hub, transformers\n",
            "  Attempting uninstall: pyyaml\n",
            "    Found existing installation: PyYAML 3.13\n",
            "    Uninstalling PyYAML-3.13:\n",
            "      Successfully uninstalled PyYAML-3.13\n",
            "Successfully installed huggingface-hub-0.0.19 pyyaml-5.4.1 sacremoses-0.0.46 tokenizers-0.10.3 transformers-4.11.3\n",
            "Collecting ipymarkup\n",
            "  Downloading ipymarkup-0.9.0-py3-none-any.whl (14 kB)\n",
            "Collecting intervaltree>=3\n",
            "  Downloading intervaltree-3.1.0.tar.gz (32 kB)\n",
            "Requirement already satisfied: sortedcontainers<3.0,>=2.0 in /usr/local/lib/python3.7/dist-packages (from intervaltree>=3->ipymarkup) (2.4.0)\n",
            "Building wheels for collected packages: intervaltree\n",
            "  Building wheel for intervaltree (setup.py) ... \u001b[?25l\u001b[?25hdone\n",
            "  Created wheel for intervaltree: filename=intervaltree-3.1.0-py2.py3-none-any.whl size=26119 sha256=79d7e7fee3318a4924d5cf043d5fa3a8011807c86359cf8d3c59af5df8f49ae9\n",
            "  Stored in directory: /root/.cache/pip/wheels/16/85/bd/1001cbb46dcfb71c2001cd7401c6fb250392f22a81ce3722f7\n",
            "Successfully built intervaltree\n",
            "Installing collected packages: intervaltree, ipymarkup\n",
            "  Attempting uninstall: intervaltree\n",
            "    Found existing installation: intervaltree 2.1.0\n",
            "    Uninstalling intervaltree-2.1.0:\n",
            "      Successfully uninstalled intervaltree-2.1.0\n",
            "Successfully installed intervaltree-3.1.0 ipymarkup-0.9.0\n"
          ]
        }
      ]
    },
    {
      "cell_type": "code",
      "metadata": {
        "id": "HKCW25g_YVr9"
      },
      "source": [
        "from typing import Dict, List, Tuple, Union\n",
        "import re\n",
        "import json\n",
        "from dataclasses import dataclass\n",
        "import itertools\n",
        "\n",
        "import pandas as pd\n",
        "\n",
        "import os\n",
        "import gc\n",
        "from tqdm import tqdm\n",
        "\n",
        "from transformers import AutoModel, AutoTokenizer\n",
        "from transformers import BertTokenizerFast, DistilBertTokenizerFast, BatchEncoding, PreTrainedTokenizerFast, TrainingArguments, Trainer\n",
        "from transformers import BertForTokenClassification, DistilBertForTokenClassification\n",
        "from tokenizers import Encoding\n",
        "\n",
        "from sklearn.model_selection import train_test_split\n",
        "from sklearn.metrics import f1_score\n",
        "\n",
        "from ipymarkup import show_box_markup\n",
        "from ipymarkup import show_line_markup\n",
        "from ipymarkup.palette import palette, BLUE, RED, GREEN, BROWN, GREY, ORANGE\n",
        "\n",
        "import torch\n",
        "from torch.utils.data import Dataset\n",
        "\n",
        "import matplotlib.pyplot as plt\n",
        "%matplotlib inline\n",
        "import seaborn as sns\n",
        "import numpy as np\n",
        "import numpy"
      ],
      "execution_count": null,
      "outputs": []
    },
    {
      "cell_type": "code",
      "metadata": {
        "colab": {
          "base_uri": "https://localhost:8080/"
        },
        "id": "8D9TTKXqYqbw",
        "outputId": "7cc0c731-b999-45a8-cebf-79ca6a895c41"
      },
      "source": [
        "from google.colab import drive\n",
        "drive.mount('/content/drive')"
      ],
      "execution_count": null,
      "outputs": [
        {
          "output_type": "stream",
          "name": "stdout",
          "text": [
            "Mounted at /content/drive\n"
          ]
        }
      ]
    },
    {
      "cell_type": "markdown",
      "metadata": {
        "id": "SZGF0ty63PpW"
      },
      "source": [
        "## 2 - Funções Gerais"
      ]
    },
    {
      "cell_type": "code",
      "metadata": {
        "id": "tidiwevo3O6K"
      },
      "source": [
        "# Liberar e monitorar memória da GPU\n",
        "def destroy_model(model: Union[DistilBertForTokenClassification,BertForTokenClassification]):\n",
        "    del model\n",
        "    gc.collect()\n",
        "    torch.cuda.empty_cache()\n",
        "\n",
        "def destroy_tokenizer(tokenizer: Union[BertTokenizerFast, DistilBertTokenizerFast]):\n",
        "    del tokenizer\n",
        "    gc.collect()\n",
        "    torch.cuda.empty_cache()\n",
        "\n",
        "def get_gpu_memory_status():\n",
        "    total = (torch.cuda.get_device_properties(0).total_memory)/(1024 **2)\n",
        "    reserved = (torch.cuda.memory_reserved(0))/(1024 **2)\n",
        "    allocated = (torch.cuda.memory_allocated(0))/(1024 **2)\n",
        "    return f\"Total: {total:.2f} | Reserved: {reserved:.2f} | Allocated: {allocated:.2f}\"\n"
      ],
      "execution_count": null,
      "outputs": []
    },
    {
      "cell_type": "code",
      "metadata": {
        "id": "Qk05LU0ZFWHl"
      },
      "source": [
        "def plot_grafico_trainer_loss(trainer_loss: numpy.ndarray, validation_loss: numpy.ndarray):\n",
        "    # Use plot styling from seaborn.\n",
        "    sns.set(style='darkgrid')\n",
        "\n",
        "    # Increase the plot size and font size.\n",
        "    sns.set(font_scale=1.5)\n",
        "    plt.rcParams[\"figure.figsize\"] = (12,6)\n",
        "\n",
        "    # Plot the learning curve.\n",
        "    plt.plot(trainer_loss[:,0],trainer_loss[:,1] , label=\"training loss\")\n",
        "    plt.plot(validation_loss[:,0], validation_loss[:,1] , label=\"validation loss\")\n",
        "\n",
        "    # Label the plot.\n",
        "    plt.title(\"Learning curve\")\n",
        "    plt.xlabel(\"Epoch\")\n",
        "    plt.ylabel(\"Loss\")\n",
        "    plt.legend()\n",
        "\n",
        "    plt.show()"
      ],
      "execution_count": null,
      "outputs": []
    },
    {
      "cell_type": "markdown",
      "metadata": {
        "id": "Njcc-52NnB91"
      },
      "source": [
        "## 3 - Constantes"
      ]
    },
    {
      "cell_type": "code",
      "metadata": {
        "id": "WMeRUE0qYqpH"
      },
      "source": [
        "GDRIVE_PATH:str = '/content/drive/MyDrive'\n",
        "DATASET_PRIMEIRO_HAREM = os.path.join(GDRIVE_PATH, 'dataset', 'po-ner', '02-portuguese-ner', 'CDPrimeiroHAREMprimeiroevento.json')\n",
        "DATASET_MINI_HAREM = os.path.join(GDRIVE_PATH, 'dataset', 'po-ner', '02-portuguese-ner', 'CDPrimeiroHAREMMiniHAREM.json')    \n",
        "DATASET_SEGUNDO_HAREM = os.path.join(GDRIVE_PATH, 'dataset', 'po-ner', '02-portuguese-ner', 'CDSegundoHAREMReRelEM.json')    \n",
        "DATASETS_HAREM=[DATASET_PRIMEIRO_HAREM, DATASET_MINI_HAREM, DATASET_SEGUNDO_HAREM]\n",
        "\n",
        "LABEL_LIST = [\n",
        "    'PESSOA',\n",
        "    'ORGANIZACAO',\n",
        "    'LOCAL',\n",
        "    'TEMPO',\n",
        "    'VALOR',\n",
        "]\n",
        "\n",
        "SEPARADOR_SENTENCA = ['.', '?', '!']\n",
        "PUNCTUATION_LIST = [ ',','.',':',';']\n",
        "CONTROL_TOKENS = ['[PAD]', '[SEP]', '[CLS]' ]\n",
        "\n",
        "MODEL_BASE: str = 'neuralmind/bert-base-portuguese-cased'\n",
        "MODEL_TRAINED_PATH: str = os.path.join(GDRIVE_PATH, 'model', 'PO-NER', 'portuguese-ner')\n",
        "MODEL_TRAINED_LOG: str = os.path.join(MODEL_TRAINED_PATH, 'trainer.log')\n",
        "LABEL_OUTPUT_PATH: str = os.path.join(MODEL_TRAINED_PATH, 'labelset.txt')"
      ],
      "execution_count": null,
      "outputs": []
    },
    {
      "cell_type": "markdown",
      "metadata": {
        "id": "d9Phouoem7_-"
      },
      "source": [
        "## 4 - Classes "
      ]
    },
    {
      "cell_type": "code",
      "metadata": {
        "id": "RVs0aWc7Yqr_"
      },
      "source": [
        "#------------------------------------------------------------------------------#\n",
        "class Anotacao:\n",
        "    \"\"\"\n",
        "        Representa uma anotação de entidade, contendo o texto, label e span(inicio, fim).\n",
        "    \"\"\" \n",
        "    def __init__(self):\n",
        "        self.text: str = ''\n",
        "        self.label: str = ''\n",
        "        self.start_offset: int = 0\n",
        "        self.end_offset: int = 0\n",
        "\n",
        "    def __str__(self):\n",
        "        return f\"{self.text} - ({self.label}) - {self.start_offset}:{self.end_offset} \\n\"\n",
        "\n",
        "    def __repr__(self):\n",
        "        return self.__str__()\n",
        "\n",
        "    def copy_from(self, origem) -> None:\n",
        "        \"\"\" \n",
        "            Args:\n",
        "                origem(Anotacao):\n",
        "                    copia os dados da anotação origem\n",
        "            Returns:\n",
        "                None\n",
        "        \"\"\"\n",
        "        self.text = origem.text\n",
        "        self.label = origem.label\n",
        "        self.start_offset = origem.start_offset\n",
        "        self.end_offset = origem.end_offset\n",
        "\n",
        "#------------------------------------------------------------------------------#\n",
        "class Document:\n",
        "    \"\"\"\n",
        "        Representa um documento e suas entidades associadas, identificadas por Anotações.\n",
        "        Contém também uma representação estatística para montagem dos Data Frames\n",
        "    \"\"\"\n",
        "\n",
        "    def __init__(self):\n",
        "        self.text: str = None\n",
        "        self.lista_anotacao: List[Anotacao] = []\n",
        "        self.numero_palavras: int = 0\n",
        "        self.numero_ent_label: Dict[str, int] = {}\n",
        "        \n",
        "        for label in LABEL_LIST:\n",
        "            self.numero_ent_label[label] = 0\n",
        "    \n",
        "    def __str__(self):\n",
        "            return f\"{self.text[0:30]}... Anotacoes({len(self.lista_anotacao)}) Palavras({self.numero_palavras}) Quantidades({self.numero_ent_label})\"\n",
        "\n",
        "    def __repr__(self):\n",
        "        return self.__str__()\n",
        "    \n",
        "    def adiciona_anotacao(self, anotacao: Anotacao) -> None:\n",
        "        self.lista_anotacao.append(anotacao)\n",
        "        self.__incrementa_label(anotacao.label)\n",
        "\n",
        "    def __incrementa_label(self, label) -> None:\n",
        "        self.numero_ent_label[label] += 1\n",
        "    \n",
        "    def conta_palavras(self) -> None:\n",
        "        self.numero_palavras = len(self.text.split())\n",
        "    \n",
        "    def to_dict(self) -> Dict[str,int]: \n",
        "        return {\n",
        "            'text': self.text,\n",
        "            'numero_palavras': self.numero_palavras,\n",
        "            'QTD_PESSOA' : self.numero_ent_label['PESSOA'],\n",
        "            'QTD_ORGANIZACAO': self.numero_ent_label['ORGANIZACAO'],\n",
        "            'QTD_LOCAL' : self.numero_ent_label['LOCAL'],\n",
        "            'QTD_TEMPO' : self.numero_ent_label['TEMPO'],\n",
        "            'QTD_VALOR' : self.numero_ent_label['VALOR']\n",
        "        }"
      ],
      "execution_count": null,
      "outputs": []
    },
    {
      "cell_type": "code",
      "metadata": {
        "id": "EHYA9fsQsuTP"
      },
      "source": [
        "@dataclass\n",
        "class TrainingBatchExample:\n",
        "    batch_encoding: BatchEncoding\n",
        "    labels: List[List[int]]"
      ],
      "execution_count": null,
      "outputs": []
    },
    {
      "cell_type": "code",
      "metadata": {
        "id": "lNrLpiMtsvqX"
      },
      "source": [
        "class NERDataset(torch.utils.data.Dataset):\n",
        "    \"\"\"\n",
        "        Subclasse do Dataset Torch utilizada para abstrair a complexidade dos itens informados ao modelo\n",
        "        durante o treino, validação e teste.\n",
        "    \"\"\"\n",
        "    def __init__(self, batch: Union[BatchEncoding, TrainingBatchExample], labels: List[List[int]]=None):\n",
        "        _batch_encodings: BatchEncoding = None\n",
        "        _labels: List[List[int]] = []\n",
        "\n",
        "        if isinstance(batch, TrainingBatchExample):\n",
        "            _batch_encodings = batch.batch_encoding\n",
        "            _labels = batch.labels\n",
        "        else:\n",
        "            _batch_encodings = batch\n",
        "            _labels = labels\n",
        "\n",
        "        if (\"offset_mapping\" in _batch_encodings):\n",
        "            _batch_encoding.pop(\"offset_mapping\")\n",
        "        self.batch_encodings = _batch_encodings\n",
        "        self.labels = _labels        \n",
        "\n",
        "    def __getitem__(self, idx):\n",
        "        item = {key: torch.tensor(val[idx]) for key, val in self.batch_encodings.items()}\n",
        "        if self.labels is not None:\n",
        "            item['labels'] = torch.tensor(self.labels[idx])\n",
        "        return item\n",
        "\n",
        "    def __len__(self):\n",
        "        if self.labels is not None:\n",
        "            return len(self.labels)\n",
        "        else:\n",
        "            return len(self.batch_encodings.encodings)"
      ],
      "execution_count": null,
      "outputs": []
    },
    {
      "cell_type": "code",
      "metadata": {
        "id": "OShd_2_fsyzB"
      },
      "source": [
        "class LabelNER:\n",
        "    \"\"\"\n",
        "        Classe preparada que contém os labels de um treinamento e teste supervisionado de NER.\n",
        "        Essa versão do LabelNer trata somente labels com span's, ou seja, a lista de inicialização não contém prefixos e o O(utside) \n",
        "\n",
        "        load_from_list e load_from_annotations devem ser utilizados no treinamento.\n",
        "        Ao terminar o treinamento salvar um cópia com o método save().\n",
        "        No caso de predição ou carga para teste utilizar o load_from_file() para carregar um label set com a mesma ordem utilizada no treino.\n",
        "     \n",
        "    \"\"\"\n",
        "\n",
        "    def __str__(self):\n",
        "            return f\"{len(self.labels_to_id)} labels {str(self.labels_to_id)}\"\n",
        "\n",
        "    def __repr__(self):\n",
        "        return self.__str__()\n",
        "\n",
        "    def __len__(self):\n",
        "        return len(self.labels_to_id)\n",
        "\n",
        "    def __init__(self):\n",
        "        self.labels_to_id = {}\n",
        "        self.ids_to_label = {}\n",
        "        \n",
        "    def get_label_list(self):\n",
        "        return self.labels_to_id.keys()\n",
        "\n",
        "    def get_id_list(self):\n",
        "        return self.ids_to_label.keys()\n",
        "\n",
        "    def load_from_simple_list(self, labels: List[str]) -> None:\n",
        "        '''\n",
        "            Args: \n",
        "                labels(:obj:`List[str]`):\n",
        "                    Lista de labels sem prefixo e não contendo o tipo O(utside).\n",
        "            \n",
        "            Inclui o tipo O(utside) e faz a permutação entre labels e os prefixos do formato informado\n",
        "        '''\n",
        "        self.labels_to_id[\"O\"] = 0\n",
        "        self.ids_to_label[0] = \"O\"\n",
        "        num = 0  # in case there are no labels\n",
        "        prefix_list: str = \"BI\" \n",
        "        for _num, (label, s) in enumerate(itertools.product(labels, prefix_list)):\n",
        "            num = _num + 1  # skip 0\n",
        "            l = f\"{s}-{label}\"\n",
        "            self.labels_to_id[l] = num\n",
        "            self.ids_to_label[num] = l\n",
        "        \n",
        "     \n",
        "    def load_from_file(self, input_file_path:str) -> None:\n",
        "        '''\n",
        "            Carrega o arquivo com os labels ordenados. O arquivo pode ser construido manualmente, mas deve conter um label por linha, na ordem utilizada para treinar o modelo, já que essa ordem foi criada na \n",
        "            extração ou carga dos labels para o treinamento do modelo.\n",
        "\n",
        "            Args: \n",
        "                labelset_file(:obj:`str`):\n",
        "                    Nome do arquivo contendo a lista de labels previamente gravado. Muito importante ter sido gravado por essa classe ou ter a garantia que o arquivo está com os labels na ordem correta.           \n",
        "        '''\n",
        "        with open(input_file_path, 'r' ) as label_file:\n",
        "            for ind, label in enumerate(label_file):\n",
        "                label = label.strip('\\n')\n",
        "                self.labels_to_id[label] = ind\n",
        "                self.ids_to_label[ind] = label\n",
        "\n",
        "    def save(self, output_file_path: str):\n",
        "        with open(output_file_path, 'w' ) as label_file:\n",
        "            for label in self.labels_to_id:\n",
        "                label_file.write(label)\n",
        "                label_file.write('\\n')    \n",
        "\n",
        "\n",
        "    def convert_label_list_to_id_list(self, lista: List[str]) -> List[int]:\n",
        "        \"\"\"\n",
        "            Converte uma lista de labels nos respectivos id`s. Para processamento no modelo essa conversão precisará ser realizada\n",
        "        \"\"\"\n",
        "        return list(map(self.labels_to_id.get, lista))\n",
        "\n",
        "    def convert_id_list_to_label_list(self, lista: List[int]) -> List[str]:\n",
        "        \"\"\"\n",
        "            Converte uma lista de id`s nos respectivos labels. Para compreensão do resultado retornado pelo modelo essa conversão será necessária.\n",
        "        \"\"\"\n",
        "        return list(map(self.ids_to_label.get, lista))  \n"
      ],
      "execution_count": null,
      "outputs": []
    },
    {
      "cell_type": "markdown",
      "metadata": {
        "id": "4CXEUabanJwM"
      },
      "source": [
        "## 5 - Carga dos Datasets"
      ]
    },
    {
      "cell_type": "code",
      "metadata": {
        "id": "XQeTd_W4YquP"
      },
      "source": [
        "def carrega_dataset_harem(file_name:str) -> List[Document]:\n",
        "    \"\"\"\n",
        "        Carrega o dataset Harem no formato JSON.\n",
        "        O formato origem do Harem é XML, mas convertemos para JSON em etapa anterior.\n",
        "        Formato esperado:\n",
        "        [\n",
        "            {\n",
        "                doc_id: str\n",
        "                doc_text: str\n",
        "                entities: [{\n",
        "                    entity_id: str\n",
        "                    text: str\n",
        "                    start_offset: int\n",
        "                    end_offset: int\n",
        "                }]\n",
        "            }\n",
        "        ]\n",
        "        \n",
        "        Args:\n",
        "            file_name(str):\n",
        "                nome do arquivo que será carregado\n",
        "\n",
        "        Returns:\n",
        "            List[Document]:\n",
        "                retorna a lista de documentos e suas anotações\n",
        "\n",
        "    \"\"\" \n",
        "\n",
        "    doc_list: List[Document] =[]\n",
        "\n",
        "    with open(file_name) as json_ds_file:\n",
        "        raw = json.load(json_ds_file)\n",
        "        for example in raw:\n",
        "            doc = Document()\n",
        "            doc.text = example['doc_text']\n",
        "            \n",
        "            for an_ent in example['entities']:\n",
        "                anotacao = Anotacao()\n",
        "                anotacao.text = an_ent['text']\n",
        "                anotacao.label = an_ent['label']\n",
        "                anotacao.start_offset = an_ent['start_offset']\n",
        "                anotacao.end_offset = an_ent['end_offset']\n",
        "                \n",
        "                doc.adiciona_anotacao(anotacao)\n",
        "            doc.conta_palavras()\n",
        "\n",
        "            doc_list.append(doc)\n",
        "    return doc_list"
      ],
      "execution_count": null,
      "outputs": []
    },
    {
      "cell_type": "code",
      "metadata": {
        "id": "_JoeCso_YqwH"
      },
      "source": [
        "# carrega separadamente cada um dos datasets\n",
        "prim_harem_lista_doc = carrega_dataset_harem(DATASET_PRIMEIRO_HAREM)\n",
        "mini_harem_lista_doc = carrega_dataset_harem(DATASET_MINI_HAREM)\n",
        "segundo_harem_lista_doc = carrega_dataset_harem(DATASET_SEGUNDO_HAREM)\n",
        "\n",
        "# gera um dataset harem único, contendo textos dos 3 datasets\n",
        "lista_doc_harem: List[Document] = []\n",
        "lista_doc_harem.extend(prim_harem_lista_doc)\n",
        "lista_doc_harem.extend(mini_harem_lista_doc)\n",
        "lista_doc_harem.extend(segundo_harem_lista_doc)\n"
      ],
      "execution_count": null,
      "outputs": []
    },
    {
      "cell_type": "markdown",
      "metadata": {
        "id": "R4r00dGFnk9-"
      },
      "source": [
        "## 6 - Analise dos Datasets"
      ]
    },
    {
      "cell_type": "code",
      "metadata": {
        "id": "MUZlOJBAjxSO"
      },
      "source": [
        "df = pd.DataFrame([o.to_dict() for o in lista_doc_harem])"
      ],
      "execution_count": null,
      "outputs": []
    },
    {
      "cell_type": "code",
      "metadata": {
        "colab": {
          "base_uri": "https://localhost:8080/",
          "height": 297
        },
        "id": "UzAb7gaXjODJ",
        "outputId": "792599d8-bb12-4b24-d485-9448010e99e8"
      },
      "source": [
        "df.describe()"
      ],
      "execution_count": null,
      "outputs": [
        {
          "output_type": "execute_result",
          "data": {
            "text/html": [
              "<div>\n",
              "<style scoped>\n",
              "    .dataframe tbody tr th:only-of-type {\n",
              "        vertical-align: middle;\n",
              "    }\n",
              "\n",
              "    .dataframe tbody tr th {\n",
              "        vertical-align: top;\n",
              "    }\n",
              "\n",
              "    .dataframe thead th {\n",
              "        text-align: right;\n",
              "    }\n",
              "</style>\n",
              "<table border=\"1\" class=\"dataframe\">\n",
              "  <thead>\n",
              "    <tr style=\"text-align: right;\">\n",
              "      <th></th>\n",
              "      <th>numero_palavras</th>\n",
              "      <th>QTD_PESSOA</th>\n",
              "      <th>QTD_ORGANIZACAO</th>\n",
              "      <th>QTD_LOCAL</th>\n",
              "      <th>QTD_TEMPO</th>\n",
              "      <th>QTD_VALOR</th>\n",
              "    </tr>\n",
              "  </thead>\n",
              "  <tbody>\n",
              "    <tr>\n",
              "      <th>count</th>\n",
              "      <td>386.000000</td>\n",
              "      <td>386.000000</td>\n",
              "      <td>386.000000</td>\n",
              "      <td>386.000000</td>\n",
              "      <td>386.000000</td>\n",
              "      <td>386.000000</td>\n",
              "    </tr>\n",
              "    <tr>\n",
              "      <th>mean</th>\n",
              "      <td>527.976684</td>\n",
              "      <td>10.295337</td>\n",
              "      <td>6.606218</td>\n",
              "      <td>9.176166</td>\n",
              "      <td>5.147668</td>\n",
              "      <td>2.919689</td>\n",
              "    </tr>\n",
              "    <tr>\n",
              "      <th>std</th>\n",
              "      <td>647.514683</td>\n",
              "      <td>16.296628</td>\n",
              "      <td>9.981820</td>\n",
              "      <td>11.533128</td>\n",
              "      <td>6.540698</td>\n",
              "      <td>4.828624</td>\n",
              "    </tr>\n",
              "    <tr>\n",
              "      <th>min</th>\n",
              "      <td>18.000000</td>\n",
              "      <td>0.000000</td>\n",
              "      <td>0.000000</td>\n",
              "      <td>0.000000</td>\n",
              "      <td>0.000000</td>\n",
              "      <td>0.000000</td>\n",
              "    </tr>\n",
              "    <tr>\n",
              "      <th>25%</th>\n",
              "      <td>225.250000</td>\n",
              "      <td>1.000000</td>\n",
              "      <td>1.000000</td>\n",
              "      <td>2.000000</td>\n",
              "      <td>1.000000</td>\n",
              "      <td>0.000000</td>\n",
              "    </tr>\n",
              "    <tr>\n",
              "      <th>50%</th>\n",
              "      <td>318.000000</td>\n",
              "      <td>5.000000</td>\n",
              "      <td>3.000000</td>\n",
              "      <td>5.000000</td>\n",
              "      <td>3.000000</td>\n",
              "      <td>1.000000</td>\n",
              "    </tr>\n",
              "    <tr>\n",
              "      <th>75%</th>\n",
              "      <td>609.750000</td>\n",
              "      <td>13.000000</td>\n",
              "      <td>9.000000</td>\n",
              "      <td>12.000000</td>\n",
              "      <td>7.000000</td>\n",
              "      <td>4.000000</td>\n",
              "    </tr>\n",
              "    <tr>\n",
              "      <th>max</th>\n",
              "      <td>7246.000000</td>\n",
              "      <td>174.000000</td>\n",
              "      <td>89.000000</td>\n",
              "      <td>72.000000</td>\n",
              "      <td>46.000000</td>\n",
              "      <td>43.000000</td>\n",
              "    </tr>\n",
              "  </tbody>\n",
              "</table>\n",
              "</div>"
            ],
            "text/plain": [
              "       numero_palavras  QTD_PESSOA  ...   QTD_TEMPO   QTD_VALOR\n",
              "count       386.000000  386.000000  ...  386.000000  386.000000\n",
              "mean        527.976684   10.295337  ...    5.147668    2.919689\n",
              "std         647.514683   16.296628  ...    6.540698    4.828624\n",
              "min          18.000000    0.000000  ...    0.000000    0.000000\n",
              "25%         225.250000    1.000000  ...    1.000000    0.000000\n",
              "50%         318.000000    5.000000  ...    3.000000    1.000000\n",
              "75%         609.750000   13.000000  ...    7.000000    4.000000\n",
              "max        7246.000000  174.000000  ...   46.000000   43.000000\n",
              "\n",
              "[8 rows x 6 columns]"
            ]
          },
          "metadata": {},
          "execution_count": 13
        }
      ]
    },
    {
      "cell_type": "code",
      "metadata": {
        "colab": {
          "base_uri": "https://localhost:8080/",
          "height": 514
        },
        "id": "uDQEXnlzmEUW",
        "outputId": "7c6693e6-bbc7-4f22-fc2d-98e0d5320d9f"
      },
      "source": [
        "df.head(15)"
      ],
      "execution_count": null,
      "outputs": [
        {
          "output_type": "execute_result",
          "data": {
            "text/html": [
              "<div>\n",
              "<style scoped>\n",
              "    .dataframe tbody tr th:only-of-type {\n",
              "        vertical-align: middle;\n",
              "    }\n",
              "\n",
              "    .dataframe tbody tr th {\n",
              "        vertical-align: top;\n",
              "    }\n",
              "\n",
              "    .dataframe thead th {\n",
              "        text-align: right;\n",
              "    }\n",
              "</style>\n",
              "<table border=\"1\" class=\"dataframe\">\n",
              "  <thead>\n",
              "    <tr style=\"text-align: right;\">\n",
              "      <th></th>\n",
              "      <th>text</th>\n",
              "      <th>numero_palavras</th>\n",
              "      <th>QTD_PESSOA</th>\n",
              "      <th>QTD_ORGANIZACAO</th>\n",
              "      <th>QTD_LOCAL</th>\n",
              "      <th>QTD_TEMPO</th>\n",
              "      <th>QTD_VALOR</th>\n",
              "    </tr>\n",
              "  </thead>\n",
              "  <tbody>\n",
              "    <tr>\n",
              "      <th>0</th>\n",
              "      <td>Abraço Página Principal ASSOCIAÇÃO DE APOIO A ...</td>\n",
              "      <td>232</td>\n",
              "      <td>0</td>\n",
              "      <td>10</td>\n",
              "      <td>3</td>\n",
              "      <td>4</td>\n",
              "      <td>3</td>\n",
              "    </tr>\n",
              "    <tr>\n",
              "      <th>1</th>\n",
              "      <td>Fernando Ferreira[click for a page in english]...</td>\n",
              "      <td>305</td>\n",
              "      <td>4</td>\n",
              "      <td>11</td>\n",
              "      <td>5</td>\n",
              "      <td>2</td>\n",
              "      <td>0</td>\n",
              "    </tr>\n",
              "    <tr>\n",
              "      <th>2</th>\n",
              "      <td>BOMBEIROS VOLUNTÁRIOS DE VILA NOVA DE OLIVEIRI...</td>\n",
              "      <td>206</td>\n",
              "      <td>6</td>\n",
              "      <td>3</td>\n",
              "      <td>2</td>\n",
              "      <td>4</td>\n",
              "      <td>0</td>\n",
              "    </tr>\n",
              "    <tr>\n",
              "      <th>3</th>\n",
              "      <td>HISTÓRICO Esta seção traz de volta um pouco da...</td>\n",
              "      <td>268</td>\n",
              "      <td>5</td>\n",
              "      <td>11</td>\n",
              "      <td>0</td>\n",
              "      <td>3</td>\n",
              "      <td>1</td>\n",
              "    </tr>\n",
              "    <tr>\n",
              "      <th>4</th>\n",
              "      <td>C o m p r a s ... COMPRAS As melhores compras ...</td>\n",
              "      <td>250</td>\n",
              "      <td>0</td>\n",
              "      <td>3</td>\n",
              "      <td>13</td>\n",
              "      <td>1</td>\n",
              "      <td>1</td>\n",
              "    </tr>\n",
              "    <tr>\n",
              "      <th>5</th>\n",
              "      <td>Empates na Honra O Ovarense-Amora e o Nacional...</td>\n",
              "      <td>483</td>\n",
              "      <td>99</td>\n",
              "      <td>0</td>\n",
              "      <td>7</td>\n",
              "      <td>0</td>\n",
              "      <td>43</td>\n",
              "    </tr>\n",
              "    <tr>\n",
              "      <th>6</th>\n",
              "      <td>Lula declarou admirar Hitler e Khomeini Candid...</td>\n",
              "      <td>364</td>\n",
              "      <td>31</td>\n",
              "      <td>11</td>\n",
              "      <td>5</td>\n",
              "      <td>6</td>\n",
              "      <td>1</td>\n",
              "    </tr>\n",
              "    <tr>\n",
              "      <th>7</th>\n",
              "      <td>Sunab autua empresas por alta abusiva dos preç...</td>\n",
              "      <td>223</td>\n",
              "      <td>1</td>\n",
              "      <td>16</td>\n",
              "      <td>1</td>\n",
              "      <td>4</td>\n",
              "      <td>5</td>\n",
              "    </tr>\n",
              "    <tr>\n",
              "      <th>8</th>\n",
              "      <td>Qual o seu nome? Lúcio Craveiro da Silva. Onde...</td>\n",
              "      <td>560</td>\n",
              "      <td>5</td>\n",
              "      <td>1</td>\n",
              "      <td>24</td>\n",
              "      <td>3</td>\n",
              "      <td>1</td>\n",
              "    </tr>\n",
              "    <tr>\n",
              "      <th>9</th>\n",
              "      <td>Quantos irmão tem? São dois. Um é como eu, tam...</td>\n",
              "      <td>1884</td>\n",
              "      <td>0</td>\n",
              "      <td>2</td>\n",
              "      <td>13</td>\n",
              "      <td>9</td>\n",
              "      <td>10</td>\n",
              "    </tr>\n",
              "    <tr>\n",
              "      <th>10</th>\n",
              "      <td>A REVISTA SÃO PAULO EM PERSPECTIVA, da Fundaca...</td>\n",
              "      <td>621</td>\n",
              "      <td>20</td>\n",
              "      <td>3</td>\n",
              "      <td>2</td>\n",
              "      <td>0</td>\n",
              "      <td>0</td>\n",
              "    </tr>\n",
              "    <tr>\n",
              "      <th>11</th>\n",
              "      <td>Feira da Ciência, Tecnologia e Inovação Expono...</td>\n",
              "      <td>270</td>\n",
              "      <td>0</td>\n",
              "      <td>9</td>\n",
              "      <td>3</td>\n",
              "      <td>3</td>\n",
              "      <td>1</td>\n",
              "    </tr>\n",
              "    <tr>\n",
              "      <th>12</th>\n",
              "      <td>IX AMORAs cortinas da janela cerraram-se; Cecí...</td>\n",
              "      <td>1523</td>\n",
              "      <td>35</td>\n",
              "      <td>0</td>\n",
              "      <td>1</td>\n",
              "      <td>0</td>\n",
              "      <td>0</td>\n",
              "    </tr>\n",
              "    <tr>\n",
              "      <th>13</th>\n",
              "      <td>O cão é um mamífero, sendo também um animal do...</td>\n",
              "      <td>484</td>\n",
              "      <td>1</td>\n",
              "      <td>5</td>\n",
              "      <td>11</td>\n",
              "      <td>1</td>\n",
              "      <td>4</td>\n",
              "    </tr>\n",
              "    <tr>\n",
              "      <th>14</th>\n",
              "      <td>Almeida Henriques, presidente da Associação In...</td>\n",
              "      <td>2042</td>\n",
              "      <td>34</td>\n",
              "      <td>62</td>\n",
              "      <td>26</td>\n",
              "      <td>2</td>\n",
              "      <td>2</td>\n",
              "    </tr>\n",
              "  </tbody>\n",
              "</table>\n",
              "</div>"
            ],
            "text/plain": [
              "                                                 text  ...  QTD_VALOR\n",
              "0   Abraço Página Principal ASSOCIAÇÃO DE APOIO A ...  ...          3\n",
              "1   Fernando Ferreira[click for a page in english]...  ...          0\n",
              "2   BOMBEIROS VOLUNTÁRIOS DE VILA NOVA DE OLIVEIRI...  ...          0\n",
              "3   HISTÓRICO Esta seção traz de volta um pouco da...  ...          1\n",
              "4   C o m p r a s ... COMPRAS As melhores compras ...  ...          1\n",
              "5   Empates na Honra O Ovarense-Amora e o Nacional...  ...         43\n",
              "6   Lula declarou admirar Hitler e Khomeini Candid...  ...          1\n",
              "7   Sunab autua empresas por alta abusiva dos preç...  ...          5\n",
              "8   Qual o seu nome? Lúcio Craveiro da Silva. Onde...  ...          1\n",
              "9   Quantos irmão tem? São dois. Um é como eu, tam...  ...         10\n",
              "10  A REVISTA SÃO PAULO EM PERSPECTIVA, da Fundaca...  ...          0\n",
              "11  Feira da Ciência, Tecnologia e Inovação Expono...  ...          1\n",
              "12  IX AMORAs cortinas da janela cerraram-se; Cecí...  ...          0\n",
              "13  O cão é um mamífero, sendo também um animal do...  ...          4\n",
              "14  Almeida Henriques, presidente da Associação In...  ...          2\n",
              "\n",
              "[15 rows x 7 columns]"
            ]
          },
          "metadata": {},
          "execution_count": 12
        }
      ]
    },
    {
      "cell_type": "code",
      "metadata": {
        "colab": {
          "base_uri": "https://localhost:8080/",
          "height": 517
        },
        "id": "oDfallBXRqNd",
        "outputId": "a53d961c-d0d1-4330-a652-7c28bac637eb"
      },
      "source": [
        "ax = df.hist(column='numero_palavras', bins=30, grid=False, figsize=(20,30), layout=(3,1), sharex=True, color='#86bf91', zorder=2, rwidth=0.9)\n"
      ],
      "execution_count": null,
      "outputs": [
        {
          "output_type": "display_data",
          "data": {
            "image/png": "[encoded data removed]",
            "text/plain": [
              "<Figure size 1440x2160 with 3 Axes>"
            ]
          },
          "metadata": {
            "needs_background": "light"
          }
        }
      ]
    },
    {
      "cell_type": "markdown",
      "metadata": {
        "id": "KGYvfhpgihRd"
      },
      "source": [
        "*A quantidade de textos com tamanho (número palavras) próximo a 512 ou maior é grande. Importante lembrar que temos wordpieces então podemos ter textos com 320 a 400 palavras que passem de 512 tokens, já que o tokenizador poderá gerar vários tokens nas palavras que não conhece. \n",
        "Como é muito considerável a perda caso utilizassemos o truncamento de tokens caso os textos gerassem mais de 512 tokens então optamos por criar algoritmos que particionam os textos.*"
      ]
    },
    {
      "cell_type": "markdown",
      "metadata": {
        "id": "NkUo6XCiko_y"
      },
      "source": [
        "**Quantidade de entidades por tipo que aparecem em cada texto**"
      ]
    },
    {
      "cell_type": "code",
      "metadata": {
        "colab": {
          "base_uri": "https://localhost:8080/",
          "height": 1000
        },
        "id": "nhX1VMfCSNUp",
        "outputId": "6823b925-9693-485f-962d-083548846027"
      },
      "source": [
        "ax = df.hist(column=['QTD_PESSOA','QTD_ORGANIZACAO','QTD_LOCAL', 'QTD_TEMPO', 'QTD_VALOR'], bins=30, grid=False, figsize=(20,30))"
      ],
      "execution_count": null,
      "outputs": [
        {
          "output_type": "display_data",
          "data": {
            "image/png": "[encoded data removed]",
            "text/plain": [
              "<Figure size 1440x2160 with 6 Axes>"
            ]
          },
          "metadata": {
            "needs_background": "light"
          }
        }
      ]
    },
    {
      "cell_type": "markdown",
      "metadata": {
        "id": "fJHybG6Rnt5g"
      },
      "source": [
        "## 7 - Preparação dos Datasets"
      ]
    },
    {
      "cell_type": "code",
      "metadata": {
        "id": "_bGiMgLktjOT"
      },
      "source": [
        "def align_tokens(batch_encoding :BatchEncoding, \n",
        "                list_annotations: List[List[Anotacao]], \n",
        "                label_ner: LabelNER) -> TrainingBatchExample:\n",
        "\n",
        "    \"\"\"\n",
        "\n",
        "    Alinhamento dos tokens e respectivos labels para tratar a disparidade gerada pelos Tokenizadores Bert que tratam palavras não encontradas com Worpieces.\n",
        "    As anotações dos datasets foram criadas levando em conta palavras, mas os tokenizadores incluem partes de palavras (wordpieces), exemplo:\n",
        "    Starbucks --> Star, ##bu, ##cks. A anotação faz referência a uma entrada B-Location, contudo três entradas deverão ser tratadas após a tokenização.\n",
        "\n",
        "    Args:\n",
        "        batch_encoding (BatchEncoding):\n",
        "            Batch encoding previamente tokenizado (input_ids, attention_mask). \n",
        "            Contém lista de Encodings gerados pelo Tokenizador ao fazer a tokenização.\n",
        "            O modelo é preparado para receber esse tipo de dado, por isso sua estrutura será preservada.\n",
        "        \n",
        "        list_annotations(List[List[Anotacao]])\n",
        "            Lista onde cada entrada contém a lista de anotações de um documento \n",
        "        \n",
        "        label_ner(LabelNER):\n",
        "            Objeto da classe LabelNER que contém os labels e seus respectivos id's. Será utilizada para converter os labels de string para identificadores.\n",
        "\n",
        "        Returns:\n",
        "            TrainingBatchExamples:\n",
        "                TrainingBatchExamples contendo o BatchEncoding passado e os labels alinhados\n",
        "\n",
        "    \"\"\"\n",
        "\n",
        "    list_aligned_labels: List[List[int]] = []\n",
        "\n",
        "    for ind_encoding in range(len(batch_encoding.encodings)):\n",
        "        encoding: Encoding = batch_encoding[ind_encoding]\n",
        "        annotations = list_annotations[ind_encoding]\n",
        "\n",
        "        aligned_labels_str: List[str] = align_tokens_from_span_annotations(encoding, annotations)\n",
        "        \n",
        "        list_aligned_labels.append(label_ner.convert_label_list_to_id_list(aligned_labels_str))\n",
        "\n",
        "    training_batch = TrainingBatchExample(batch_encoding, list_aligned_labels)\n",
        "    \n",
        "    return training_batch\n"
      ],
      "execution_count": null,
      "outputs": []
    },
    {
      "cell_type": "code",
      "metadata": {
        "id": "daZoGRVEtocF"
      },
      "source": [
        "def align_tokens_from_span_annotations(encoding: Encoding, annotations: List[Anotacao]) -> List[str]:\n",
        "    \"\"\"\n",
        "\n",
        "    Alinhamento das anotações de um documento com as wordpieces.\n",
        "    \n",
        "    Args:\n",
        "        encoding (Encoding):\n",
        "            Enconding da sentença previamente tokenizada (input_ids, attention_mask)            \n",
        "        \n",
        "        annotations(List[Anotacao])\n",
        "            Lista de spans das entidades. Cada entrada do dicionário contém o label, inicio e fim de uma entidade que pode conter uma ou mais palavras.\n",
        "            A função espera receber anotações com as seguintes entradas:\n",
        "                - start - inicio do span\n",
        "                - end - fim do span\n",
        "                - label - label do span. Não é esperado que o label contenha os prefixos IOB ou BILOU, somente o nome do label.\n",
        "\n",
        "        Returns:\n",
        "            List[str]\n",
        "                Anotações alinhadas com os tokens\n",
        "\n",
        "    \"\"\"\n",
        "\n",
        "    \n",
        "    begin_prefix: str='B'\n",
        "    inside_prefix: str='I'\n",
        "\n",
        "    tokens = encoding.tokens\n",
        "    aligned_labels: List[str] = [\"O\"] * len(tokens)  # Make a list to store our labels the same length as our tokens\n",
        "    for anno in annotations:\n",
        "        annotation_token_ix_set = (set())  # A set that stores the token indices of the annotation\n",
        "        for char_ix in range(anno.start_offset, anno.end_offset):\n",
        "            token_ix = encoding.char_to_token(char_ix)\n",
        "            if token_ix is not None:\n",
        "                if not tokens[token_ix] in PUNCTUATION_LIST: # alguns datasets incluem caracteres de pontuação na entidade por falha nas anotações\n",
        "                    annotation_token_ix_set.add(token_ix)\n",
        "\n",
        "        if len(annotation_token_ix_set) == 1:\n",
        "            # If there is only one token\n",
        "            token_ix = annotation_token_ix_set.pop()\n",
        "            aligned_labels[token_ix] = f\"{begin_prefix}-{anno.label}\"\n",
        "\n",
        "        else:\n",
        "            last_token_in_anno_ix = len(annotation_token_ix_set) - 1\n",
        "            for num, token_ix in enumerate(sorted(annotation_token_ix_set)):                \n",
        "                if num == 0:\n",
        "                    prefix = begin_prefix                \n",
        "                else:\n",
        "                    prefix = inside_prefix\n",
        "                aligned_labels[token_ix] = f\"{prefix}-{anno.label}\"\n",
        "    return aligned_labels"
      ],
      "execution_count": null,
      "outputs": []
    },
    {
      "cell_type": "code",
      "metadata": {
        "id": "ZncLt3X0iaJs"
      },
      "source": [
        "def prepara_docs_to_bert(doc_list: List[Document], tokenizer:BertTokenizerFast, limite_tokens:int=512) -> List[Document]:\n",
        "    \"\"\"\n",
        "        Tokenização dos documentos e particionamento de um documento em vários, caso necessário, para evitar a perda de dados para treinamento/validação.\n",
        "\n",
        "        Args:\n",
        "            doc_list(List[Document]):\n",
        "                lista de documentos para preparação\n",
        "            tokenizer(BertTokenizerFast)\n",
        "                Tokenizador utilizado, vai separar os tokens de acordo com o vocabulário disponível  \n",
        "            limite_tokens(int)\n",
        "                Quantidade máxima de tokens por documento\n",
        "\n",
        "        Returns:\n",
        "            Lista de documentos com tamanho menor ou igual ao limite de tokens informado. A quantidade de documentos retornados é sempre maior ou igual a quantidade\n",
        "            informada pelo parametro doc_list\n",
        "\n",
        "    \"\"\"\n",
        "\n",
        "    lista_doc_preparado = []\n",
        "    for doc in doc_list:\n",
        "        encoding:Encoding = tokenizer(doc.text)[0]\n",
        "        if len(encoding.tokens) <= limite_tokens:\n",
        "            lista_doc_preparado.append(doc)\n",
        "            continue\n",
        "\n",
        "        doc_particionado, doc_residual = particiona_doc(doc, encoding, limite_tokens)\n",
        "        lista_doc_preparado.append(doc_particionado)\n",
        "        while doc_residual is not None:\n",
        "            encoding = tokenizer(doc_residual.text)[0]\n",
        "            doc_particionado, doc_residual = particiona_doc(doc_residual, encoding, limite_tokens)\n",
        "            lista_doc_preparado.append(doc_particionado)\n",
        "    \n",
        "    return lista_doc_preparado\n"
      ],
      "execution_count": null,
      "outputs": []
    },
    {
      "cell_type": "code",
      "metadata": {
        "id": "X00AjljYjmxa"
      },
      "source": [
        "def particiona_doc(doc: Document, encoding: Encoding, limite_tokens) -> Tuple[Document,Document]:\n",
        "    \"\"\" \n",
        "        Particiona o documento caso a quantidade de tokens seja maior que o limite, gerando um segundo documento com os tokens que sobraram.        \n",
        "        A quebra do documento não acontece no limite dos tokens, mas no último separador de sentença disponível ('.', '!' ou '?' )\n",
        "\n",
        "        Args:\n",
        "            doc(Document):\n",
        "                documento que será particionado (caso necessário)\n",
        "            encoding(Encoding)\n",
        "                Encoding do documento, contendo os id`s do vocabulário (não será utilizado), tokens e offsets (ambos importantes para a separação)  \n",
        "            limite_tokens(int)\n",
        "                Quantidade máxima de tokens por documento            \n",
        "\n",
        "        Returns: (Document, Document)\n",
        "            Documento particionado com as anotações preservadas\n",
        "            Documento residual com as anotações deslocadas\n",
        "\n",
        "    \"\"\"\n",
        "\n",
        "    # Verifica se é necessário particionar\n",
        "    if len(encoding.tokens) <= limite_tokens:\n",
        "        return doc, None\n",
        "\n",
        "    # reservar a posição do [SEP] na tokenização    \n",
        "    pos_quebra = limite_tokens -1;\n",
        "    achou_pos_quebra = False\n",
        "    while not achou_pos_quebra and pos_quebra > 0:\n",
        "        if encoding.tokens[pos_quebra] in SEPARADOR_SENTENCA:\n",
        "            achou_pos_quebra = True\n",
        "        else:\n",
        "            pos_quebra -= 1\n",
        "\n",
        "\n",
        "    # Se não encontrar o separadar até o inicio então teremos que separar sentenças no meio\n",
        "    if not achou_pos_quebra:\n",
        "        pos_quebra = limite_tokens -1\n",
        "\n",
        "    # final do token de quebra\n",
        "    offset_quebra = encoding.offsets[pos_quebra][1]\n",
        "    offset_inicio_doc_residual = encoding.offsets[pos_quebra+1][0]\n",
        "    doc_particionado = Document()\n",
        "    doc_residual = Document()\n",
        "\n",
        "    doc_particionado.text = doc.text[0:offset_quebra]\n",
        "    doc_residual.text = doc.text[offset_inicio_doc_residual:]\n",
        "\n",
        "    for anotacao in doc.lista_anotacao:\n",
        "        nova_anotacao = Anotacao()\n",
        "        nova_anotacao.copy_from(anotacao)\n",
        "        if nova_anotacao.start_offset < offset_quebra:\n",
        "            doc_particionado.adiciona_anotacao(nova_anotacao)\n",
        "        else:\n",
        "            nova_anotacao.start_offset -= offset_inicio_doc_residual\n",
        "            nova_anotacao.end_offset -= offset_inicio_doc_residual\n",
        "            doc_residual.adiciona_anotacao(nova_anotacao)\n",
        "\n",
        "\n",
        "    doc_particionado.conta_palavras()\n",
        "    doc_residual.conta_palavras()\n",
        "\n",
        "    return doc_particionado,doc_residual\n"
      ],
      "execution_count": null,
      "outputs": []
    },
    {
      "cell_type": "code",
      "metadata": {
        "id": "VoyJzQZiozU9"
      },
      "source": [
        "# separação dos datasets de treino, validação e teste\n",
        "train_doc_list, test_doc_list = train_test_split(lista_doc_harem, test_size=0.1, random_state=42)\n",
        "train_doc_list, val_doc_list = train_test_split(train_doc_list, test_size=0.1, random_state=42)"
      ],
      "execution_count": null,
      "outputs": []
    },
    {
      "cell_type": "code",
      "metadata": {
        "colab": {
          "base_uri": "https://localhost:8080/"
        },
        "id": "5_aXu811p6Gn",
        "outputId": "2c912262-fc45-4723-806c-2f061e3d66b9"
      },
      "source": [
        "print(len(train_doc_list))\n",
        "print(len(val_doc_list))\n",
        "print(len(test_doc_list))\n"
      ],
      "execution_count": null,
      "outputs": [
        {
          "output_type": "stream",
          "name": "stdout",
          "text": [
            "312\n",
            "35\n",
            "39\n"
          ]
        }
      ]
    },
    {
      "cell_type": "code",
      "metadata": {
        "id": "sk4LtAV1UIRN",
        "colab": {
          "base_uri": "https://localhost:8080/",
          "height": 177,
          "referenced_widgets": [
            "a8c2b304f4954914adec956fd9a8026e",
            "0cf4327d5b32499da034274b2269cf2e",
            "35c41d6248b74918bd495c01b58dd98b",
            "8afabaf5e46a4bba9a21409e00fda6a9",
            "895aa628d986421db903a0c041f25a69",
            "0f298afd57ee48c581912b70025b9a35",
            "cbfbb4e3be584a069020a4769af2367f",
            "96404b23d5854020b731d0f0073541eb",
            "4c0ccc0d930147cebdabca167eb84089",
            "c48780238b1b44cbb82231b1492a2805",
            "5b7370934efd4ce4bddaa8e38037c6d6",
            "5f28e487e4174609a38c985b3f797e0f",
            "ed98243f98d14d16b4cfdc3df1af7623",
            "dc210bd5375c4137a8c7bd8b5bd63f21",
            "e28e1d5bb841480783584d866a4fdb6d"
          ]
        },
        "outputId": "044d62a6-6ad9-4915-b55c-85287468a8d5"
      },
      "source": [
        "tokenizer = AutoTokenizer.from_pretrained(MODEL_BASE)"
      ],
      "execution_count": null,
      "outputs": [
        {
          "output_type": "display_data",
          "data": {
            "application/vnd.jupyter.widget-view+json": {
              "model_id": "a8c2b304f4954914adec956fd9a8026e",
              "version_minor": 0,
              "version_major": 2
            },
            "text/plain": [
              "Downloading:   0%|          | 0.00/43.0 [00:00<?, ?B/s]"
            ]
          },
          "metadata": {}
        },
        {
          "output_type": "display_data",
          "data": {
            "application/vnd.jupyter.widget-view+json": {
              "model_id": "5f28e487e4174609a38c985b3f797e0f",
              "version_minor": 0,
              "version_major": 2
            },
            "text/plain": [
              "Downloading:   0%|          | 0.00/647 [00:00<?, ?B/s]"
            ]
          },
          "metadata": {}
        },
        {
          "output_type": "display_data",
          "data": {
            "application/vnd.jupyter.widget-view+json": {
              "model_id": "ed98243f98d14d16b4cfdc3df1af7623",
              "version_minor": 0,
              "version_major": 2
            },
            "text/plain": [
              "Downloading:   0%|          | 0.00/205k [00:00<?, ?B/s]"
            ]
          },
          "metadata": {}
        },
        {
          "output_type": "display_data",
          "data": {
            "application/vnd.jupyter.widget-view+json": {
              "model_id": "dc210bd5375c4137a8c7bd8b5bd63f21",
              "version_minor": 0,
              "version_major": 2
            },
            "text/plain": [
              "Downloading:   0%|          | 0.00/2.00 [00:00<?, ?B/s]"
            ]
          },
          "metadata": {}
        },
        {
          "output_type": "display_data",
          "data": {
            "application/vnd.jupyter.widget-view+json": {
              "model_id": "e28e1d5bb841480783584d866a4fdb6d",
              "version_minor": 0,
              "version_major": 2
            },
            "text/plain": [
              "Downloading:   0%|          | 0.00/112 [00:00<?, ?B/s]"
            ]
          },
          "metadata": {}
        }
      ]
    },
    {
      "cell_type": "code",
      "metadata": {
        "id": "w0dObALukAgF"
      },
      "source": [
        "# Exemplo comentado para o artigo\n",
        "#print(lista_doc_harem[0])\n",
        "#lista = separa_doc_caso_necessario([lista_doc_harem[0]],tokenizer=tokenizer,limite_tokens=100)\n",
        "#print(lista)\n",
        "#print(lista[3].text)\n",
        "#print(lista[3].lista_anotacao)\n",
        "#lista[3].text[448:466]"
      ],
      "execution_count": null,
      "outputs": []
    },
    {
      "cell_type": "code",
      "metadata": {
        "id": "XUuzRof1dto2"
      },
      "source": [
        "train_doc_list = prepara_docs_to_bert(doc_list = train_doc_list, tokenizer=tokenizer, limite_tokens=512)\n",
        "val_doc_list = prepara_docs_to_bert(doc_list = val_doc_list, tokenizer=tokenizer, limite_tokens=512)"
      ],
      "execution_count": null,
      "outputs": []
    },
    {
      "cell_type": "code",
      "metadata": {
        "id": "t0RPczeQzIFt"
      },
      "source": [
        "label_ner: LabelNER = LabelNER() \n",
        "label_ner.load_from_simple_list(LABEL_LIST)"
      ],
      "execution_count": null,
      "outputs": []
    },
    {
      "cell_type": "code",
      "metadata": {
        "id": "FSL0ao4H0c1b"
      },
      "source": [
        "train_text_list = []\n",
        "train_annotation_list = []\n",
        "for doc in train_doc_list:\n",
        "    train_text_list.append(doc.text)\n",
        "    train_annotation_list.append(doc.lista_anotacao)\n",
        "\n",
        "val_text_list = []\n",
        "val_annotation_list = []\n",
        "for doc in val_doc_list:\n",
        "    val_text_list.append(doc.text)\n",
        "    val_annotation_list.append(doc.lista_anotacao)\n"
      ],
      "execution_count": null,
      "outputs": []
    },
    {
      "cell_type": "code",
      "metadata": {
        "id": "naBXuXEYzVv6"
      },
      "source": [
        "train_batch_encoding = tokenizer(train_text_list, max_length=512, padding=\"max_length\", truncation=True)\n",
        "val_batch_encoding = tokenizer(val_text_list, max_length=512, padding=\"max_length\", truncation=True)"
      ],
      "execution_count": null,
      "outputs": []
    },
    {
      "cell_type": "code",
      "metadata": {
        "id": "mfZRgHgY1KRD"
      },
      "source": [
        "train_batch_example:TrainingBatchExample = align_tokens(train_batch_encoding, \n",
        "                                                        train_annotation_list,\n",
        "                                                        label_ner=label_ner)\n",
        "\n",
        "val_batch_example:TrainingBatchExample = align_tokens(val_batch_encoding, \n",
        "                                                    val_annotation_list,\n",
        "                                                    label_ner=label_ner)"
      ],
      "execution_count": null,
      "outputs": []
    },
    {
      "cell_type": "code",
      "metadata": {
        "colab": {
          "base_uri": "https://localhost:8080/"
        },
        "id": "P0KGL_AA2A3f",
        "outputId": "1457d3cb-00cb-4fc6-a135-156fa1802a66"
      },
      "source": [
        "indice = 100\n",
        "print(train_text_list[indice])\n",
        "print(train_batch_example.batch_encoding.encodings[indice].tokens)\n",
        "print(train_batch_example.batch_encoding.encodings[indice].offsets)\n",
        "print(label_ner.convert_id_list_to_label_list(train_batch_example.labels[indice]))"
      ],
      "execution_count": null,
      "outputs": [
        {
          "output_type": "stream",
          "name": "stdout",
          "text": [
            "Di Bello Informática... seu Polo de Informática em MADUREIRA- A mais antiga loja de Informática em Madureira, são vinte anos de credibilidade...Hardware, software, suprimentos e manutenção. http://www.webspace.com.br/dibello. Diacon Informática- A Diacon presta serviços de consultoria, treinamento e desenvolvimento de sistemas. http://www.diacon.com.br.\n",
            "['[CLS]', 'Di', 'Bell', '##o', 'Inf', '##orm', '##ática', '.', '.', '.', 'seu', 'Polo', 'de', 'Inf', '##orm', '##ática', 'em', 'MA', '##D', '##UR', '##EI', '##RA', '-', 'A', 'mais', 'antiga', 'loja', 'de', 'Inf', '##orm', '##ática', 'em', 'Mad', '##ure', '##ira', ',', 'são', 'vinte', 'anos', 'de', 'cred', '##ibilidade', '.', '.', '.', 'Hard', '##ware', ',', 'software', ',', 'suprimentos', 'e', 'manutenção', '.', 'http', ':', '/', '/', 'w', '##ww', '.', 'web', '##s', '##pace', '.', 'com', '.', 'b', '##r', '/', 'di', '##bell', '##o', '.', 'Dia', '##con', 'Inf', '##orm', '##ática', '-', 'A', 'Dia', '##con', 'pres', '##ta', 'serviços', 'de', 'consultor', '##ia', ',', 'treinamento', 'e', 'desenvolvimento', 'de', 'sistemas', '.', 'http', ':', '/', '/', 'w', '##ww', '.', 'dia', '##con', '.', 'com', '.', 'b', '##r', '.', '[SEP]', '[PAD]', '[PAD]', '[PAD]', '[PAD]', '[PAD]', '[PAD]', '[PAD]', '[PAD]', '[PAD]', '[PAD]', '[PAD]', '[PAD]', '[PAD]', '[PAD]', '[PAD]', '[PAD]', '[PAD]', '[PAD]', '[PAD]', '[PAD]', '[PAD]', '[PAD]', '[PAD]', '[PAD]', '[PAD]', '[PAD]', '[PAD]', '[PAD]', '[PAD]', '[PAD]', '[PAD]', '[PAD]', '[PAD]', '[PAD]', '[PAD]', '[PAD]', '[PAD]', '[PAD]', '[PAD]', '[PAD]', '[PAD]', '[PAD]', '[PAD]', '[PAD]', '[PAD]', '[PAD]', '[PAD]', '[PAD]', '[PAD]', '[PAD]', '[PAD]', '[PAD]', '[PAD]', '[PAD]', '[PAD]', '[PAD]', '[PAD]', '[PAD]', '[PAD]', '[PAD]', '[PAD]', '[PAD]', '[PAD]', '[PAD]', '[PAD]', '[PAD]', '[PAD]', '[PAD]', '[PAD]', '[PAD]', '[PAD]', '[PAD]', '[PAD]', '[PAD]', '[PAD]', '[PAD]', '[PAD]', '[PAD]', '[PAD]', '[PAD]', '[PAD]', '[PAD]', '[PAD]', '[PAD]', '[PAD]', '[PAD]', '[PAD]', '[PAD]', '[PAD]', '[PAD]', '[PAD]', '[PAD]', '[PAD]', '[PAD]', '[PAD]', '[PAD]', '[PAD]', '[PAD]', '[PAD]', '[PAD]', '[PAD]', '[PAD]', '[PAD]', '[PAD]', '[PAD]', '[PAD]', '[PAD]', '[PAD]', '[PAD]', '[PAD]', '[PAD]', '[PAD]', '[PAD]', '[PAD]', '[PAD]', '[PAD]', '[PAD]', '[PAD]', '[PAD]', '[PAD]', '[PAD]', '[PAD]', '[PAD]', '[PAD]', '[PAD]', '[PAD]', '[PAD]', '[PAD]', '[PAD]', '[PAD]', '[PAD]', '[PAD]', '[PAD]', '[PAD]', '[PAD]', '[PAD]', '[PAD]', '[PAD]', '[PAD]', '[PAD]', '[PAD]', '[PAD]', '[PAD]', '[PAD]', '[PAD]', '[PAD]', '[PAD]', '[PAD]', '[PAD]', '[PAD]', '[PAD]', '[PAD]', '[PAD]', '[PAD]', '[PAD]', '[PAD]', '[PAD]', '[PAD]', '[PAD]', '[PAD]', '[PAD]', '[PAD]', '[PAD]', '[PAD]', '[PAD]', '[PAD]', '[PAD]', '[PAD]', '[PAD]', '[PAD]', '[PAD]', '[PAD]', '[PAD]', '[PAD]', '[PAD]', '[PAD]', '[PAD]', '[PAD]', '[PAD]', '[PAD]', '[PAD]', '[PAD]', '[PAD]', '[PAD]', '[PAD]', '[PAD]', '[PAD]', '[PAD]', '[PAD]', '[PAD]', '[PAD]', '[PAD]', '[PAD]', '[PAD]', '[PAD]', '[PAD]', '[PAD]', '[PAD]', '[PAD]', '[PAD]', '[PAD]', '[PAD]', '[PAD]', '[PAD]', '[PAD]', '[PAD]', '[PAD]', '[PAD]', '[PAD]', '[PAD]', '[PAD]', '[PAD]', '[PAD]', '[PAD]', '[PAD]', '[PAD]', '[PAD]', '[PAD]', '[PAD]', '[PAD]', '[PAD]', '[PAD]', '[PAD]', '[PAD]', '[PAD]', '[PAD]', '[PAD]', '[PAD]', '[PAD]', '[PAD]', '[PAD]', '[PAD]', '[PAD]', '[PAD]', '[PAD]', '[PAD]', '[PAD]', '[PAD]', '[PAD]', '[PAD]', '[PAD]', '[PAD]', '[PAD]', '[PAD]', '[PAD]', '[PAD]', '[PAD]', '[PAD]', '[PAD]', '[PAD]', '[PAD]', '[PAD]', '[PAD]', '[PAD]', '[PAD]', '[PAD]', '[PAD]', '[PAD]', '[PAD]', '[PAD]', '[PAD]', '[PAD]', '[PAD]', '[PAD]', '[PAD]', '[PAD]', '[PAD]', '[PAD]', '[PAD]', '[PAD]', '[PAD]', '[PAD]', '[PAD]', '[PAD]', '[PAD]', '[PAD]', '[PAD]', '[PAD]', '[PAD]', '[PAD]', '[PAD]', '[PAD]', '[PAD]', '[PAD]', '[PAD]', '[PAD]', '[PAD]', '[PAD]', '[PAD]', '[PAD]', '[PAD]', '[PAD]', '[PAD]', '[PAD]', '[PAD]', '[PAD]', '[PAD]', '[PAD]', '[PAD]', '[PAD]', '[PAD]', '[PAD]', '[PAD]', '[PAD]', '[PAD]', '[PAD]', '[PAD]', '[PAD]', '[PAD]', '[PAD]', '[PAD]', '[PAD]', '[PAD]', '[PAD]', '[PAD]', '[PAD]', '[PAD]', '[PAD]', '[PAD]', '[PAD]', '[PAD]', '[PAD]', '[PAD]', '[PAD]', '[PAD]', '[PAD]', '[PAD]', '[PAD]', '[PAD]', '[PAD]', '[PAD]', '[PAD]', '[PAD]', '[PAD]', '[PAD]', '[PAD]', '[PAD]', '[PAD]', '[PAD]', '[PAD]', '[PAD]', '[PAD]', '[PAD]', '[PAD]', '[PAD]', '[PAD]', '[PAD]', '[PAD]', '[PAD]', '[PAD]', '[PAD]', '[PAD]', '[PAD]', '[PAD]', '[PAD]', '[PAD]', '[PAD]', '[PAD]', '[PAD]', '[PAD]', '[PAD]', '[PAD]', '[PAD]', '[PAD]', '[PAD]', '[PAD]', '[PAD]', '[PAD]', '[PAD]', '[PAD]', '[PAD]', '[PAD]', '[PAD]', '[PAD]', '[PAD]', '[PAD]', '[PAD]', '[PAD]', '[PAD]', '[PAD]', '[PAD]', '[PAD]', '[PAD]', '[PAD]', '[PAD]', '[PAD]', '[PAD]', '[PAD]', '[PAD]', '[PAD]', '[PAD]', '[PAD]', '[PAD]', '[PAD]', '[PAD]', '[PAD]', '[PAD]', '[PAD]', '[PAD]', '[PAD]']\n",
            "[(0, 0), (0, 2), (3, 7), (7, 8), (9, 12), (12, 15), (15, 20), (20, 21), (21, 22), (22, 23), (24, 27), (28, 32), (33, 35), (36, 39), (39, 42), (42, 47), (48, 50), (51, 53), (53, 54), (54, 56), (56, 58), (58, 60), (60, 61), (62, 63), (64, 68), (69, 75), (76, 80), (81, 83), (84, 87), (87, 90), (90, 95), (96, 98), (99, 102), (102, 105), (105, 108), (108, 109), (110, 113), (114, 119), (120, 124), (125, 127), (128, 132), (132, 141), (141, 142), (142, 143), (143, 144), (144, 148), (148, 152), (152, 153), (154, 162), (162, 163), (164, 175), (176, 177), (178, 188), (188, 189), (190, 194), (194, 195), (195, 196), (196, 197), (197, 198), (198, 200), (200, 201), (201, 204), (204, 205), (205, 209), (209, 210), (210, 213), (213, 214), (214, 215), (215, 216), (216, 217), (217, 219), (219, 223), (223, 224), (224, 225), (226, 229), (229, 232), (233, 236), (236, 239), (239, 244), (244, 245), (246, 247), (248, 251), (251, 254), (255, 259), (259, 261), (262, 270), (271, 273), (274, 283), (283, 285), (285, 286), (287, 298), (299, 300), (301, 316), (317, 319), (320, 328), (328, 329), (330, 334), (334, 335), (335, 336), (336, 337), (337, 338), (338, 340), (340, 341), (341, 344), (344, 347), (347, 348), (348, 351), (351, 352), (352, 353), (353, 354), (354, 355), (0, 0), (0, 0), (0, 0), (0, 0), (0, 0), (0, 0), (0, 0), (0, 0), (0, 0), (0, 0), (0, 0), (0, 0), (0, 0), (0, 0), (0, 0), (0, 0), (0, 0), (0, 0), (0, 0), (0, 0), (0, 0), (0, 0), (0, 0), (0, 0), (0, 0), (0, 0), (0, 0), (0, 0), (0, 0), (0, 0), (0, 0), (0, 0), (0, 0), (0, 0), (0, 0), (0, 0), (0, 0), (0, 0), (0, 0), (0, 0), (0, 0), (0, 0), (0, 0), (0, 0), (0, 0), (0, 0), (0, 0), (0, 0), (0, 0), (0, 0), (0, 0), (0, 0), (0, 0), (0, 0), (0, 0), (0, 0), (0, 0), (0, 0), (0, 0), (0, 0), (0, 0), (0, 0), (0, 0), (0, 0), (0, 0), (0, 0), (0, 0), (0, 0), (0, 0), (0, 0), (0, 0), (0, 0), (0, 0), (0, 0), (0, 0), (0, 0), (0, 0), (0, 0), (0, 0), (0, 0), (0, 0), (0, 0), (0, 0), (0, 0), (0, 0), (0, 0), (0, 0), (0, 0), (0, 0), (0, 0), (0, 0), (0, 0), (0, 0), (0, 0), (0, 0), (0, 0), (0, 0), (0, 0), (0, 0), (0, 0), (0, 0), (0, 0), (0, 0), (0, 0), (0, 0), (0, 0), (0, 0), (0, 0), (0, 0), (0, 0), (0, 0), (0, 0), (0, 0), (0, 0), (0, 0), (0, 0), (0, 0), (0, 0), (0, 0), (0, 0), (0, 0), (0, 0), (0, 0), (0, 0), (0, 0), (0, 0), (0, 0), (0, 0), (0, 0), (0, 0), (0, 0), (0, 0), (0, 0), (0, 0), (0, 0), (0, 0), (0, 0), (0, 0), (0, 0), (0, 0), (0, 0), (0, 0), (0, 0), (0, 0), (0, 0), (0, 0), (0, 0), (0, 0), (0, 0), (0, 0), (0, 0), (0, 0), (0, 0), (0, 0), (0, 0), (0, 0), (0, 0), (0, 0), (0, 0), (0, 0), (0, 0), (0, 0), (0, 0), (0, 0), (0, 0), (0, 0), (0, 0), (0, 0), (0, 0), (0, 0), (0, 0), (0, 0), (0, 0), (0, 0), (0, 0), (0, 0), (0, 0), (0, 0), (0, 0), (0, 0), (0, 0), (0, 0), (0, 0), (0, 0), (0, 0), (0, 0), (0, 0), (0, 0), (0, 0), (0, 0), (0, 0), (0, 0), (0, 0), (0, 0), (0, 0), (0, 0), (0, 0), (0, 0), (0, 0), (0, 0), (0, 0), (0, 0), (0, 0), (0, 0), (0, 0), (0, 0), (0, 0), (0, 0), (0, 0), (0, 0), (0, 0), (0, 0), (0, 0), (0, 0), (0, 0), (0, 0), (0, 0), (0, 0), (0, 0), (0, 0), (0, 0), (0, 0), (0, 0), (0, 0), (0, 0), (0, 0), (0, 0), (0, 0), (0, 0), (0, 0), (0, 0), (0, 0), (0, 0), (0, 0), (0, 0), (0, 0), (0, 0), (0, 0), (0, 0), (0, 0), (0, 0), (0, 0), (0, 0), (0, 0), (0, 0), (0, 0), (0, 0), (0, 0), (0, 0), (0, 0), (0, 0), (0, 0), (0, 0), (0, 0), (0, 0), (0, 0), (0, 0), (0, 0), (0, 0), (0, 0), (0, 0), (0, 0), (0, 0), (0, 0), (0, 0), (0, 0), (0, 0), (0, 0), (0, 0), (0, 0), (0, 0), (0, 0), (0, 0), (0, 0), (0, 0), (0, 0), (0, 0), (0, 0), (0, 0), (0, 0), (0, 0), (0, 0), (0, 0), (0, 0), (0, 0), (0, 0), (0, 0), (0, 0), (0, 0), (0, 0), (0, 0), (0, 0), (0, 0), (0, 0), (0, 0), (0, 0), (0, 0), (0, 0), (0, 0), (0, 0), (0, 0), (0, 0), (0, 0), (0, 0), (0, 0), (0, 0), (0, 0), (0, 0), (0, 0), (0, 0), (0, 0), (0, 0), (0, 0), (0, 0), (0, 0), (0, 0), (0, 0), (0, 0), (0, 0), (0, 0), (0, 0), (0, 0), (0, 0), (0, 0), (0, 0), (0, 0), (0, 0), (0, 0), (0, 0), (0, 0), (0, 0), (0, 0), (0, 0), (0, 0), (0, 0), (0, 0), (0, 0), (0, 0), (0, 0), (0, 0), (0, 0), (0, 0), (0, 0), (0, 0), (0, 0), (0, 0), (0, 0), (0, 0), (0, 0), (0, 0), (0, 0), (0, 0), (0, 0), (0, 0), (0, 0), (0, 0), (0, 0), (0, 0), (0, 0), (0, 0), (0, 0), (0, 0), (0, 0), (0, 0), (0, 0), (0, 0), (0, 0), (0, 0), (0, 0), (0, 0), (0, 0), (0, 0), (0, 0), (0, 0), (0, 0), (0, 0), (0, 0), (0, 0), (0, 0), (0, 0), (0, 0), (0, 0), (0, 0), (0, 0), (0, 0), (0, 0), (0, 0), (0, 0), (0, 0), (0, 0), (0, 0), (0, 0), (0, 0), (0, 0), (0, 0), (0, 0), (0, 0), (0, 0), (0, 0), (0, 0), (0, 0)]\n",
            "['O', 'B-ORGANIZACAO', 'I-ORGANIZACAO', 'I-ORGANIZACAO', 'I-ORGANIZACAO', 'I-ORGANIZACAO', 'I-ORGANIZACAO', 'O', 'O', 'O', 'O', 'B-ORGANIZACAO', 'I-ORGANIZACAO', 'I-ORGANIZACAO', 'I-ORGANIZACAO', 'I-ORGANIZACAO', 'O', 'B-LOCAL', 'I-LOCAL', 'I-LOCAL', 'I-LOCAL', 'I-LOCAL', 'O', 'O', 'O', 'O', 'O', 'O', 'O', 'O', 'O', 'O', 'B-LOCAL', 'I-LOCAL', 'I-LOCAL', 'O', 'O', 'O', 'O', 'O', 'O', 'O', 'O', 'O', 'O', 'O', 'O', 'O', 'O', 'O', 'O', 'O', 'O', 'O', 'O', 'O', 'O', 'O', 'O', 'O', 'O', 'O', 'O', 'O', 'O', 'O', 'O', 'O', 'O', 'O', 'O', 'O', 'O', 'O', 'B-ORGANIZACAO', 'I-ORGANIZACAO', 'I-ORGANIZACAO', 'I-ORGANIZACAO', 'I-ORGANIZACAO', 'O', 'O', 'B-ORGANIZACAO', 'I-ORGANIZACAO', 'O', 'O', 'O', 'O', 'O', 'O', 'O', 'O', 'O', 'O', 'O', 'O', 'O', 'O', 'O', 'O', 'O', 'O', 'O', 'O', 'O', 'O', 'O', 'O', 'O', 'O', 'O', 'O', 'O', 'O', 'O', 'O', 'O', 'O', 'O', 'O', 'O', 'O', 'O', 'O', 'O', 'O', 'O', 'O', 'O', 'O', 'O', 'O', 'O', 'O', 'O', 'O', 'O', 'O', 'O', 'O', 'O', 'O', 'O', 'O', 'O', 'O', 'O', 'O', 'O', 'O', 'O', 'O', 'O', 'O', 'O', 'O', 'O', 'O', 'O', 'O', 'O', 'O', 'O', 'O', 'O', 'O', 'O', 'O', 'O', 'O', 'O', 'O', 'O', 'O', 'O', 'O', 'O', 'O', 'O', 'O', 'O', 'O', 'O', 'O', 'O', 'O', 'O', 'O', 'O', 'O', 'O', 'O', 'O', 'O', 'O', 'O', 'O', 'O', 'O', 'O', 'O', 'O', 'O', 'O', 'O', 'O', 'O', 'O', 'O', 'O', 'O', 'O', 'O', 'O', 'O', 'O', 'O', 'O', 'O', 'O', 'O', 'O', 'O', 'O', 'O', 'O', 'O', 'O', 'O', 'O', 'O', 'O', 'O', 'O', 'O', 'O', 'O', 'O', 'O', 'O', 'O', 'O', 'O', 'O', 'O', 'O', 'O', 'O', 'O', 'O', 'O', 'O', 'O', 'O', 'O', 'O', 'O', 'O', 'O', 'O', 'O', 'O', 'O', 'O', 'O', 'O', 'O', 'O', 'O', 'O', 'O', 'O', 'O', 'O', 'O', 'O', 'O', 'O', 'O', 'O', 'O', 'O', 'O', 'O', 'O', 'O', 'O', 'O', 'O', 'O', 'O', 'O', 'O', 'O', 'O', 'O', 'O', 'O', 'O', 'O', 'O', 'O', 'O', 'O', 'O', 'O', 'O', 'O', 'O', 'O', 'O', 'O', 'O', 'O', 'O', 'O', 'O', 'O', 'O', 'O', 'O', 'O', 'O', 'O', 'O', 'O', 'O', 'O', 'O', 'O', 'O', 'O', 'O', 'O', 'O', 'O', 'O', 'O', 'O', 'O', 'O', 'O', 'O', 'O', 'O', 'O', 'O', 'O', 'O', 'O', 'O', 'O', 'O', 'O', 'O', 'O', 'O', 'O', 'O', 'O', 'O', 'O', 'O', 'O', 'O', 'O', 'O', 'O', 'O', 'O', 'O', 'O', 'O', 'O', 'O', 'O', 'O', 'O', 'O', 'O', 'O', 'O', 'O', 'O', 'O', 'O', 'O', 'O', 'O', 'O', 'O', 'O', 'O', 'O', 'O', 'O', 'O', 'O', 'O', 'O', 'O', 'O', 'O', 'O', 'O', 'O', 'O', 'O', 'O', 'O', 'O', 'O', 'O', 'O', 'O', 'O', 'O', 'O', 'O', 'O', 'O', 'O', 'O', 'O', 'O', 'O', 'O', 'O', 'O', 'O', 'O', 'O', 'O', 'O', 'O', 'O', 'O', 'O', 'O', 'O', 'O', 'O', 'O', 'O', 'O', 'O', 'O', 'O', 'O', 'O', 'O', 'O', 'O', 'O', 'O', 'O', 'O', 'O', 'O', 'O', 'O', 'O', 'O', 'O', 'O', 'O', 'O', 'O', 'O', 'O', 'O', 'O', 'O', 'O', 'O', 'O', 'O', 'O', 'O', 'O', 'O', 'O', 'O', 'O', 'O', 'O', 'O', 'O', 'O', 'O', 'O', 'O', 'O', 'O', 'O', 'O', 'O', 'O', 'O', 'O', 'O', 'O', 'O', 'O', 'O', 'O', 'O', 'O', 'O', 'O', 'O', 'O', 'O']\n"
          ]
        }
      ]
    },
    {
      "cell_type": "markdown",
      "metadata": {
        "id": "DHUbQf8Nsdnv"
      },
      "source": [
        "## 8 - Treinamento"
      ]
    },
    {
      "cell_type": "code",
      "metadata": {
        "id": "-_oa6WLe2xvi"
      },
      "source": [
        "model = BertForTokenClassification.from_pretrained(MODEL_BASE, num_labels=len(label_ner))\n",
        "model.to('cuda')"
      ],
      "execution_count": null,
      "outputs": []
    },
    {
      "cell_type": "code",
      "metadata": {
        "id": "IjFiwraTsYI_"
      },
      "source": [
        "train_dataset = NERDataset(train_batch_example)\n",
        "val_dataset = NERDataset(val_batch_example)"
      ],
      "execution_count": null,
      "outputs": []
    },
    {
      "cell_type": "code",
      "metadata": {
        "id": "1Aw6XRpi2b1B"
      },
      "source": [
        "training_args = TrainingArguments(\n",
        "    output_dir='./results',          # output directory\n",
        "    num_train_epochs=5,              # total number of training epochs\n",
        "    per_device_train_batch_size=16,  # batch size per device during training\n",
        "    per_device_eval_batch_size=16,   # batch size for evaluation\n",
        "    warmup_steps=100,                # number of warmup steps for learning rate scheduler\n",
        "    weight_decay=0.01,               # strength of weight decay\n",
        "    logging_dir='./logs',            # directory for storing logs\n",
        "    logging_steps=20,\n",
        "    evaluation_strategy='steps',\n",
        "    save_strategy='steps',\n",
        "    load_best_model_at_end=True\n",
        "\n",
        ")"
      ],
      "execution_count": null,
      "outputs": []
    },
    {
      "cell_type": "code",
      "metadata": {
        "id": "7U6BHn6o2p7P"
      },
      "source": [
        "trainer = Trainer(\n",
        "    model=model,                         # the instantiated 🤗 Transformers model to be trained\n",
        "    args=training_args,                  # training arguments, defined above\n",
        "    train_dataset=train_dataset,         # training dataset\n",
        "    eval_dataset=val_dataset             # evaluation dataset\n",
        ")"
      ],
      "execution_count": null,
      "outputs": []
    },
    {
      "cell_type": "code",
      "metadata": {
        "id": "puE5Dr8T2wq5"
      },
      "source": [
        "trainer.train()\n",
        "\n",
        "trainer.save_model(MODEL_TRAINED_PATH)\n",
        "label_ner.save(LABEL_OUTPUT_PATH)\n",
        "\n",
        "destroy_model(model)\n",
        "print(get_gpu_memory_status())\n",
        "destroy_tokenizer(tokenizer)\n",
        "print(get_gpu_memory_status())"
      ],
      "execution_count": null,
      "outputs": []
    },
    {
      "cell_type": "code",
      "metadata": {
        "id": "P44cgoa23bGI",
        "colab": {
          "base_uri": "https://localhost:8080/",
          "height": 427
        },
        "outputId": "4ca2bf03-eb25-45ef-ef70-8c7e5175c479"
      },
      "source": [
        "  #grafico sobre train e evaluation loss\n",
        "df = pd.read_csv(MODEL_TRAINED_LOG,sep='\\t')\n",
        "df['Epoch'] = round((df.Step * training_args.per_device_train_batch_size) / len(train_dataset), 2)\n",
        "df.tail(10)\n",
        "\n",
        "train_loss = df[['Epoch', 'Training Loss']].to_numpy()\n",
        "validation_loss = df[['Epoch', 'Validation Loss']].to_numpy()\n",
        "\n",
        "plot_grafico_trainer_loss(train_loss, validation_loss)"
      ],
      "execution_count": null,
      "outputs": [
        {
          "output_type": "display_data",
          "data": {
            "image/png": "[encoded data removed]",
            "text/plain": [
              "<Figure size 864x432 with 1 Axes>"
            ]
          },
          "metadata": {}
        }
      ]
    },
    {
      "cell_type": "code",
      "metadata": {
        "id": "D_nt-SAFTsCR"
      },
      "source": [
        "destroy_model(model)\n",
        "destroy_tokenizer(tokenizer)"
      ],
      "execution_count": null,
      "outputs": []
    },
    {
      "cell_type": "markdown",
      "metadata": {
        "id": "I9ola_IuFnI7"
      },
      "source": [
        "## 9 - Execução do Modelo - Teste"
      ]
    },
    {
      "cell_type": "code",
      "metadata": {
        "id": "pzCikOsBUzmo"
      },
      "source": [
        "def prepara_NER_prediction_for_metrics(tokenizer: Union[BertTokenizerFast], \n",
        "                                       batch_encoding: BatchEncoding, \n",
        "                                       test_labels: numpy.ndarray, \n",
        "                                       pred_labels: numpy.ndarray):\n",
        "    \"\"\"\n",
        "        Ajusta da predição realizada pelo NER para avaliação das métricas.\n",
        "        Os seguintes tokens de controle devem ser ignorados: [PAD], [SEP], [CLS]. Ignorar representa atribuir o valor correto à predição,\n",
        "        não importando para a medição comparar o que foi previsto para os tokens de controle.\n",
        "\n",
        "        Args:\n",
        "            tokenizer (BertTokenizerFast,DistilBertTokenizerFast):\n",
        "                Tokenizer utiilzado no modelo, foi o responsável por tokenizar o batch_encoding.\n",
        "\n",
        "            batch_encoding (BatchEncoding):\n",
        "                Batch enconding das sentenças tokenizadas utilizando o tokenizer passado por parametro. Será usado caso os wordpieces sejam ignorados.\n",
        "            \n",
        "            test_labels (:obj:`numpy.ndarray(int)`):\n",
        "                Array com os valores corretos dos labels.\n",
        "            \n",
        "            pred_labels (:obj:`numpy.ndarray(int)`):\n",
        "                Array com os valores inferido pelo modelo.\n",
        "\n",
        "        Returns:\n",
        "            :obj:`numpy.ndarray(int)`:\n",
        "                Vetor de predição preparado para aplicação de métricas.\n",
        "    \"\"\"\n",
        "    control_encodings:BatchEncoding = tokenizer(CONTROL_TOKENS)\n",
        "    ignored_tokens = set([token_id for control_sent in control_encodings.input_ids for token_id in control_sent])\n",
        "    \n",
        "    for ind_encoding in range(len(batch_encoding.encodings)):\n",
        "        encoding:Encoding = batch_encoding[ind_encoding]\n",
        "        \n",
        "        for ind_token,input_id in enumerate(encoding.ids):\n",
        "            if input_id in ignored_tokens:\n",
        "                if pred_labels[ind_encoding][ind_token] != test_labels[ind_encoding][ind_token]:\n",
        "                    #print(input_id,' [', ind_encoding, ',', ind_token, '] -', pred_labels[ind_encoding][ind_token], '--> ', test_labels[ind_encoding][ind_token] )\n",
        "                    pred_labels[ind_encoding][ind_token] = test_labels[ind_encoding][ind_token]\n",
        "\n",
        "    return pred_labels"
      ],
      "execution_count": null,
      "outputs": []
    },
    {
      "cell_type": "code",
      "metadata": {
        "id": "Gq-5hGDIFFif"
      },
      "source": [
        "model = BertForTokenClassification.from_pretrained(MODEL_TRAINED_PATH)\n",
        "tokenizer = AutoTokenizer.from_pretrained(MODEL_BASE)\n",
        "model.to('cuda')"
      ],
      "execution_count": null,
      "outputs": []
    },
    {
      "cell_type": "code",
      "metadata": {
        "colab": {
          "base_uri": "https://localhost:8080/",
          "height": 35
        },
        "id": "Sp_f6MybF_Nt",
        "outputId": "89cd679a-666e-4183-c506-195c695f2848"
      },
      "source": [
        "get_gpu_memory_status()"
      ],
      "execution_count": null,
      "outputs": [
        {
          "output_type": "execute_result",
          "data": {
            "application/vnd.google.colaboratory.intrinsic+json": {
              "type": "string"
            },
            "text/plain": [
              "'Total: 16280.88 | Reserved: 2220.00 | Allocated: 2074.88'"
            ]
          },
          "metadata": {},
          "execution_count": 38
        }
      ]
    },
    {
      "cell_type": "code",
      "metadata": {
        "id": "S89aMY9oGY4s"
      },
      "source": [
        "label_ner = LabelNER()\n",
        "label_ner.load_from_file(LABEL_OUTPUT_PATH)"
      ],
      "execution_count": null,
      "outputs": []
    },
    {
      "cell_type": "code",
      "metadata": {
        "id": "Pq7t3NxPGeX2"
      },
      "source": [
        "test_doc_list = prepara_docs_to_bert(doc_list=test_doc_list, tokenizer=tokenizer, limite_tokens=512)"
      ],
      "execution_count": null,
      "outputs": []
    },
    {
      "cell_type": "code",
      "metadata": {
        "id": "crLNGFFtGg3_"
      },
      "source": [
        "test_text_list = []\n",
        "test_annotation_list = []\n",
        "for doc in test_doc_list:\n",
        "    test_text_list.append(doc.text)\n",
        "    test_annotation_list.append(doc.lista_anotacao)"
      ],
      "execution_count": null,
      "outputs": []
    },
    {
      "cell_type": "code",
      "metadata": {
        "id": "15VeZeDXHQLQ"
      },
      "source": [
        "test_batch_encoding = tokenizer(test_text_list, max_length=512, padding=\"max_length\", truncation=True)"
      ],
      "execution_count": null,
      "outputs": []
    },
    {
      "cell_type": "code",
      "metadata": {
        "id": "tgVTSwOwH7m9"
      },
      "source": [
        "test_batch_example:TrainingBatchExample = align_tokens(test_batch_encoding, \n",
        "                                                        test_annotation_list,\n",
        "                                                        label_ner=label_ner)"
      ],
      "execution_count": null,
      "outputs": []
    },
    {
      "cell_type": "code",
      "metadata": {
        "id": "5YXKO9KYIUwI"
      },
      "source": [
        "test_dataset = NERDataset(test_batch_example)"
      ],
      "execution_count": null,
      "outputs": []
    },
    {
      "cell_type": "code",
      "metadata": {
        "id": "i0IMZ3Z-IFJh"
      },
      "source": [
        "loader = torch.utils.data.DataLoader(test_dataset, batch_size=16, shuffle=False)"
      ],
      "execution_count": null,
      "outputs": []
    },
    {
      "cell_type": "code",
      "metadata": {
        "colab": {
          "base_uri": "https://localhost:8080/"
        },
        "id": "WllezvLJIRBo",
        "outputId": "9d9bb947-a24e-4abe-f9ad-3c4a1c40be5b"
      },
      "source": [
        "loop = tqdm(loader, leave=True)\n",
        "final_output_loss = []\n",
        "final_output_logits = []\n",
        "\n",
        "for it, batch in enumerate(loop):\n",
        "\n",
        "    input_ids = batch['input_ids'].to('cuda')\n",
        "    attention_mask = batch['attention_mask'].to('cuda')\n",
        "    labels = batch['labels'].to('cuda')\n",
        "\n",
        "    outputs = model(input_ids=input_ids, \n",
        "                    attention_mask=attention_mask, \n",
        "                    labels=labels)\n",
        "    \n",
        "    final_output_loss.append(outputs.loss.detach().to('cpu').numpy())\n",
        "    final_output_logits.append(outputs.logits.detach().to('cpu').numpy())\n",
        "\n",
        "    input_ids.detach()\n",
        "    attention_mask.detach()\n",
        "    labels.detach\n",
        "    labels = None\n",
        "    input_ids = None\n",
        "    attention_mask = None\n",
        "    outputs.logits = None\n",
        "    outputs.loss = None\n",
        "    outputs = None\n",
        "    gc.collect()\n",
        "    torch.cuda.empty_cache()\n"
      ],
      "execution_count": null,
      "outputs": [
        {
          "output_type": "stream",
          "name": "stderr",
          "text": [
            "100%|██████████| 6/6 [00:04<00:00,  1.41it/s]\n"
          ]
        }
      ]
    },
    {
      "cell_type": "code",
      "metadata": {
        "colab": {
          "base_uri": "https://localhost:8080/",
          "height": 35
        },
        "id": "s7mYYlu-IfFs",
        "outputId": "7f808bc8-88d2-4b13-e8c4-cde7b513ba09"
      },
      "source": [
        "get_gpu_memory_status()"
      ],
      "execution_count": null,
      "outputs": [
        {
          "output_type": "execute_result",
          "data": {
            "application/vnd.google.colaboratory.intrinsic+json": {
              "type": "string"
            },
            "text/plain": [
              "'Total: 16280.88 | Reserved: 2220.00 | Allocated: 2075.00'"
            ]
          },
          "metadata": {},
          "execution_count": 47
        }
      ]
    },
    {
      "cell_type": "code",
      "metadata": {
        "colab": {
          "base_uri": "https://localhost:8080/",
          "height": 35
        },
        "id": "nX3pfLy_UVsX",
        "outputId": "cc1e0362-c80b-491b-eae4-a7a199e12093"
      },
      "source": [
        "destroy_model(model)\n",
        "get_gpu_memory_status()"
      ],
      "execution_count": null,
      "outputs": [
        {
          "output_type": "execute_result",
          "data": {
            "application/vnd.google.colaboratory.intrinsic+json": {
              "type": "string"
            },
            "text/plain": [
              "'Total: 16280.88 | Reserved: 2220.00 | Allocated: 2075.00'"
            ]
          },
          "metadata": {},
          "execution_count": 50
        }
      ]
    },
    {
      "cell_type": "code",
      "metadata": {
        "id": "3XD5l9BtJAjo"
      },
      "source": [
        "test_preds = np.vstack(final_output_logits)\n",
        "test_preds = np.argmax(test_preds, axis=-1)\n",
        "test_preds = prepara_NER_prediction_for_metrics(tokenizer=tokenizer, \n",
        "                                                batch_encoding=test_dataset.encodings,\n",
        "                                                test_labels=test_dataset.labels, \n",
        "                                                pred_labels=test_preds)"
      ],
      "execution_count": null,
      "outputs": []
    },
    {
      "cell_type": "code",
      "metadata": {
        "colab": {
          "base_uri": "https://localhost:8080/"
        },
        "id": "XuVOtQi1W0lE",
        "outputId": "07339b51-941f-46d0-a56f-7550ad79034a"
      },
      "source": [
        "y_true = np.array(test_dataset.labels).ravel()\n",
        "y_pred = test_preds.ravel()\n",
        "\n",
        "\n",
        "score = f1_score(y_true=y_true, y_pred=y_pred, average='weighted')\n",
        "print('Weighted - ', score)\n",
        "score = f1_score(y_true=y_true, y_pred=y_pred, average='micro')\n",
        "print('Micro - ', score)\n",
        "score = f1_score(y_true=y_true, y_pred=y_pred, average='macro')\n",
        "print('Macro - ', score)"
      ],
      "execution_count": null,
      "outputs": [
        {
          "output_type": "stream",
          "name": "stdout",
          "text": [
            "Weighted -  0.9735422259451593\n",
            "Micro -  0.9732638888888889\n",
            "Macro -  0.8095561812886692\n"
          ]
        }
      ]
    },
    {
      "cell_type": "code",
      "metadata": {
        "id": "cpSU9NXQK1yU"
      },
      "source": [
        "destroy_tokenizer(tokenizer)\n",
        "get_gpu_memory_status()"
      ],
      "execution_count": null,
      "outputs": []
    },
    {
      "cell_type": "markdown",
      "metadata": {
        "id": "eECgaa0LXsPq"
      },
      "source": [
        "## 10 - Testes com textos fora do Harem"
      ]
    },
    {
      "cell_type": "code",
      "metadata": {
        "id": "BYYbubGoU2lR"
      },
      "source": [
        "class Span_Entity:\n",
        "\n",
        "    def __init__(self):\n",
        "        self.label: str = ''\n",
        "        self.start: int = -1\n",
        "        self.end: int = -1\n",
        "    \n",
        "    def to_tuple(self) -> Tuple[int,int,str]:\n",
        "        return (self.start, self.end, self.label)\n",
        "\n",
        "\n",
        "def mount_ner_prediction_spans_to_visualization(batch_encoding: BatchEncoding, label_list: List[List[str]]) -> List[Tuple[int,int,str]]:\n",
        "    \"\"\"\n",
        "        Dado um conjunto de encodings gerados pelo tokenizador Bert e os respectivos labels, a função criará os spans para visualização do texto e entidades, agrupando as entidades.\n",
        "        A função pode ser utilizad por labels inferidos por um modelo ou obtidos por um dataset\n",
        "\n",
        "        Args:\n",
        "            batch_encoding(BatchEncoding):\n",
        "                Conjunto de encodings gerados após a tokenização do Bert (exige que seja um tokenizador Fast por causa dos offset)\n",
        "\n",
        "            label_list(List[List[str]]):\n",
        "                Lista com uma lista de Labels no formato IOB ('O', 'B-<entidade>', 'I-<entidade>')\n",
        "\n",
        "        Returns(List[List[Tuple[int,int,str]]]):\n",
        "            Retorna lista com a lista dos spans das entidades para visualização do NER, retirando os prefixos B-/I- da representação IOB\n",
        "\n",
        "    \"\"\"\n",
        "    batch_span_list: List[List[Tuple[int,int,str]]] = []\n",
        "\n",
        "    for idx_encoding in  range(len(batch_encoding.encodings)):\n",
        "        encoding:Encoding = batch_encoding[idx_encoding]\n",
        "        span_list = []\n",
        "        batch_span_list.append(span_list)\n",
        "\n",
        "        span_atual: Span_Entity = None\n",
        "        for idx_label,label in enumerate(label_list[idx_encoding]):\n",
        "            token_atual = encoding.tokens[idx_label]\n",
        "\n",
        "            if label == 'O' or token_atual in CONTROL_TOKENS:\n",
        "                if span_atual is not None:\n",
        "                    span_list.append(span_atual.to_tuple())\n",
        "                    span_atual = None\n",
        "            elif label.startswith('B-'):\n",
        "                if span_atual is not None:\n",
        "                    span_list.append(span_atual.to_tuple())\n",
        "                span_atual = Span_Entity()\n",
        "                span_atual.label = label[2:]\n",
        "                span_atual.start = encoding.offsets[idx_label][0]\n",
        "                span_atual.end = encoding.offsets[idx_label][1]\n",
        "\n",
        "            elif label.startswith('I-'):\n",
        "                if span_atual is None:\n",
        "                    if token_atual not in CONTROL_TOKENS:\n",
        "                        print(f'Info - Encontrado uma entidade com prefixo I- sem uma entidade anterior com B-. Encoding({idx_encoding},{encoding.tokens[idx_label]}) Label({idx_label},{label})')\n",
        "                else:\n",
        "                    span_atual.end = encoding.offsets[idx_label][1]\n",
        "            else:\n",
        "                raise ValueError(f'Prefixo de Label não esperado {label}')\n",
        "\n",
        "            # tratar o ultimo token sendo I- ou B-\n",
        "            if (idx_label == len(label_list[idx_encoding]) -1):\n",
        "                if span_atual is not None:\n",
        "                    span_list.append(span_atual.to_tuple())\n",
        "\n",
        "    return batch_span_list\n"
      ],
      "execution_count": null,
      "outputs": []
    },
    {
      "cell_type": "code",
      "metadata": {
        "id": "vRbtzGfeXxCT"
      },
      "source": [
        "model = BertForTokenClassification.from_pretrained(MODEL_TRAINED_PATH)\n",
        "tokenizer = AutoTokenizer.from_pretrained(MODEL_BASE)\n",
        "model.to('cuda')"
      ],
      "execution_count": null,
      "outputs": []
    },
    {
      "cell_type": "code",
      "metadata": {
        "id": "ODM8eTlBZio1"
      },
      "source": [
        "label_ner = LabelNER()\n",
        "label_ner.load_from_file(LABEL_OUTPUT_PATH)"
      ],
      "execution_count": null,
      "outputs": []
    },
    {
      "cell_type": "code",
      "metadata": {
        "colab": {
          "base_uri": "https://localhost:8080/",
          "height": 35
        },
        "id": "WvffS2YYX_FC",
        "outputId": "52363da1-2e19-4cd5-d67d-fe7d56339fc3"
      },
      "source": [
        "get_gpu_memory_status()"
      ],
      "execution_count": null,
      "outputs": [
        {
          "output_type": "execute_result",
          "data": {
            "application/vnd.google.colaboratory.intrinsic+json": {
              "type": "string"
            },
            "text/plain": [
              "'Total: 16280.88 | Reserved: 450.00 | Allocated: 414.51'"
            ]
          },
          "metadata": {},
          "execution_count": 15
        }
      ]
    },
    {
      "cell_type": "code",
      "metadata": {
        "id": "xS9TNcQTYBfL"
      },
      "source": [
        "texto1 = 'Pateta (em inglês, Goofy) é um personagem de animação dos Estúdios Walt Disney criado em 1932. Ele é um cão antropomórfico da raça Bloodhound de aparência magra, esguia, alta, e desengonçada. É conhecido pelo público por seu jeito atrapalhado, engraçado e bondoso e por seu chapéu singular. Seu nome seria um apelido, pois nos curtas dos anos 50 e 60 era chamado \"George Geef\" ou \"G. G. Goof\". Fontes atuais como o desenho A Turma do Pateta dão seu nome completo como Pateta Pateta.' \n",
        "texto2 = 'O secretário-executivo do ministério, Rodrigo Cruz, afirmou que o debate sobre a campanha 2022 com especialistas envolveu diversas dúvidas e perguntas, tais como qual será o público-alvo da vacinação, quais imunizantes usar e quando aplicar as doses. \"Hoje o mundo não tem essas respostas\", disse Cruz. \"Diversos cenários foram elaborados e levamos em consideração de 2 doses caso tenha ampliação de publico alvo, como menores de 12 anos. Para o público de 18 a 60 anos, vai ter 1 dose. E mais de 60 e imunossuprimidos, vão ter 2 doses. Esse é o cenário escolhido para 2022 e por faixa etária decrescente. Nesse primeiro momento\", reforçou Cruz.' \n",
        "texto3= 'Nesta quinta-feira (7), o Masters 1000 de Indian Wells volta a ser disputado oficialmente. Conhecido como o \"quinto Grand Slam\" por conta da estrutura e do tamanho da chave com relação às outras competições desse nível, o torneio foi o primeiro a ser cancelado no ano passado por conta da pandemia do novo Coronavírus e chegou a ser adiado em 2021, mas enfim vai acontecer. De quebra, retorna com um atrativo garantido: um campeão inédito será coroado na Califórnia.'\n",
        "texto4= 'O sistema operacional Unix foi concebido e implementado em 1969 pela AT&T Bell Laboratories nos Estados Unidos por Ken Thompson, Dennis Ritchie, Douglas McIlroy, e Joe Ossanna. Lançado pela primeira vez em 1971, o Unix foi escrito inteiramente em linguagem assembly uma prática comum para a época. Mais tarde, em 1973, o sistema foi reescrito na linguagem de programação C por Dennis Ritchie.[10] A disponibilidade de uma implementação do Unix feita em linguagem de alto nível fez a sua portabilidade para diferentes plataformas de computador se tornarem mais fácil. Na época, a maioria dos programas era escrita em cartões perfurados que tinham de ser inseridos em lotes em computadores mainframe.'\n",
        "texto5 = 'O Brasil registrou neste domingo (10) 167 mortes por Covid-19 nas últimas 24 horas, com o total de óbitos chegando a 601.047 desde o início da pandemia. Com isso, a média móvel de mortes nos últimos 7 dias ficou em 437 --a menor registrada desde 13 de novembro de 2020 (quando estava em 403). Em comparação à média de 14 dias atrás, a variação foi de -17% e aponta queda.'\n",
        "texto6 = 'O relatório final da CPI da Covid no Senado, a ser apresentado e votado ainda neste mês, deve listar pelo menos 11 crimes atribuídos ao presidente Jair Bolsonaro, afirmou à GloboNews neste domingo (10) o relator da comissão, senador Renan Calheiros (MDB-AL). A lista, segundo Renan, inclui crimes de responsabilidade, crimes contra a saúde pública e mesmo crimes contra a humanidade, além de condutas previstas no Código Penal.'\n",
        "real_batch_text=[texto1,texto2,texto3,texto4,texto5,texto6]"
      ],
      "execution_count": null,
      "outputs": []
    },
    {
      "cell_type": "code",
      "metadata": {
        "id": "jSHcOEfnZeTT"
      },
      "source": [
        "real_test_batch_encoding = tokenizer(real_batch_text, max_length=512, padding=\"max_length\", truncation=True)\n",
        "real_test_dataset = NERDataset(real_test_batch_encoding)\n",
        "real_test_loader = torch.utils.data.DataLoader(real_test_dataset, batch_size=4, shuffle=False)"
      ],
      "execution_count": null,
      "outputs": []
    },
    {
      "cell_type": "code",
      "metadata": {
        "colab": {
          "base_uri": "https://localhost:8080/"
        },
        "id": "Nu3e82UKqXPR",
        "outputId": "e2fbc3b2-0ebd-4edc-98c0-c6f2911488a8"
      },
      "source": [
        "print(len(real_test_loader))"
      ],
      "execution_count": null,
      "outputs": [
        {
          "output_type": "stream",
          "name": "stdout",
          "text": [
            "2\n"
          ]
        }
      ]
    },
    {
      "cell_type": "code",
      "metadata": {
        "id": "I_eCocUEcEKd"
      },
      "source": [
        "final_output_real_test_logits = []\n",
        "for idx,batch in enumerate(real_test_loader):\n",
        "    \n",
        "    input_ids = batch['input_ids'].to('cuda')\n",
        "    attention_mask = batch['attention_mask'].to('cuda')\n",
        "\n",
        "    outputs = model(input_ids=input_ids, \n",
        "                    attention_mask=attention_mask)\n",
        "    \n",
        "    final_output_real_test_logits.append(outputs.logits.detach().to('cpu').numpy())\n",
        "\n",
        "    input_ids.detach()\n",
        "    attention_mask.detach()\n",
        "    input_ids = attention_mask = outputs.logits = outputs.loss = None\n",
        "    outputs = None\n",
        "    gc.collect()\n",
        "    torch.cuda.empty_cache()"
      ],
      "execution_count": null,
      "outputs": []
    },
    {
      "cell_type": "code",
      "metadata": {
        "id": "a3wg0VGdrV3G"
      },
      "source": [
        "real_test_preds = np.vstack(final_output_real_test_logits)\n",
        "real_test_preds = np.argmax(real_test_preds, axis=-1)\n",
        "real_test_preds = [label_ner.convert_id_list_to_label_list(p) for p in real_test_preds]"
      ],
      "execution_count": null,
      "outputs": []
    },
    {
      "cell_type": "code",
      "metadata": {
        "colab": {
          "base_uri": "https://localhost:8080/"
        },
        "id": "3NSplLnerZTz",
        "outputId": "6f1c9d0f-5b62-4219-aa40-55ccecdbced4"
      },
      "source": [
        "print(len(real_test_preds))\n",
        "print(real_test_batch_encoding.encodings[0].tokens)\n",
        "print(real_test_batch_encoding.encodings[0].offsets)\n",
        "print(real_test_preds[0])\n",
        "print(real_test_batch_encoding.encodings[0].tokens[80:86])\n",
        "print(real_test_preds[0][80:86])"
      ],
      "execution_count": null,
      "outputs": [
        {
          "output_type": "stream",
          "name": "stdout",
          "text": [
            "6\n",
            "['[CLS]', 'Pat', '##eta', '(', 'em', 'inglês', ',', 'Go', '##of', '##y', ')', 'é', 'um', 'personagem', 'de', 'animação', 'dos', 'Est', '##údio', '##s', 'Walt', 'Disney', 'criado', 'em', '1932', '.', 'Ele', 'é', 'um', 'cão', 'antrop', '##om', '##ór', '##fico', 'da', 'raça', 'Blood', '##hou', '##nd', 'de', 'aparência', 'mag', '##ra', ',', 'es', '##guia', ',', 'alta', ',', 'e', 'desen', '##gon', '##çada', '.', 'É', 'conhecido', 'pelo', 'público', 'por', 'seu', 'jeito', 'atrapal', '##hado', ',', 'engra', '##çado', 'e', 'bon', '##doso', 'e', 'por', 'seu', 'chapéu', 'singular', '.', 'Seu', 'nome', 'seria', 'um', 'apelido', ',', 'pois', 'nos', 'curtas', 'dos', 'anos', '50', 'e', '60', 'era', 'chamado', '\"', 'George', 'Ge', '##e', '##f', '\"', 'ou', '\"', 'G', '.', 'G', '.', 'Go', '##of', '\"', '.', 'Fontes', 'atuais', 'como', 'o', 'desenho', 'A', 'Tur', '##ma', 'do', 'Pat', '##eta', 'dão', 'seu', 'nome', 'completo', 'como', 'Pat', '##eta', 'Pat', '##eta', '.', '[SEP]', '[PAD]', '[PAD]', '[PAD]', '[PAD]', '[PAD]', '[PAD]', '[PAD]', '[PAD]', '[PAD]', '[PAD]', '[PAD]', '[PAD]', '[PAD]', '[PAD]', '[PAD]', '[PAD]', '[PAD]', '[PAD]', '[PAD]', '[PAD]', '[PAD]', '[PAD]', '[PAD]', '[PAD]', '[PAD]', '[PAD]', '[PAD]', '[PAD]', '[PAD]', '[PAD]', '[PAD]', '[PAD]', '[PAD]', '[PAD]', '[PAD]', '[PAD]', '[PAD]', '[PAD]', '[PAD]', '[PAD]', '[PAD]', '[PAD]', '[PAD]', '[PAD]', '[PAD]', '[PAD]', '[PAD]', '[PAD]', '[PAD]', '[PAD]', '[PAD]', '[PAD]', '[PAD]', '[PAD]', '[PAD]', '[PAD]', '[PAD]', '[PAD]', '[PAD]', '[PAD]', '[PAD]', '[PAD]', '[PAD]', '[PAD]', '[PAD]', '[PAD]', '[PAD]', '[PAD]', '[PAD]', '[PAD]', '[PAD]', '[PAD]', '[PAD]', '[PAD]', '[PAD]', '[PAD]', '[PAD]', '[PAD]', '[PAD]', '[PAD]', '[PAD]', '[PAD]', '[PAD]', '[PAD]', '[PAD]', '[PAD]', '[PAD]', '[PAD]', '[PAD]', '[PAD]', '[PAD]', '[PAD]', '[PAD]', '[PAD]', '[PAD]', '[PAD]', '[PAD]', '[PAD]', '[PAD]', '[PAD]', '[PAD]', '[PAD]', '[PAD]', '[PAD]', '[PAD]', '[PAD]', '[PAD]', '[PAD]', '[PAD]', '[PAD]', '[PAD]', '[PAD]', '[PAD]', '[PAD]', '[PAD]', '[PAD]', '[PAD]', '[PAD]', '[PAD]', '[PAD]', '[PAD]', '[PAD]', '[PAD]', '[PAD]', '[PAD]', '[PAD]', '[PAD]', '[PAD]', '[PAD]', '[PAD]', '[PAD]', '[PAD]', '[PAD]', '[PAD]', '[PAD]', '[PAD]', '[PAD]', '[PAD]', '[PAD]', '[PAD]', '[PAD]', '[PAD]', '[PAD]', '[PAD]', '[PAD]', '[PAD]', '[PAD]', '[PAD]', '[PAD]', '[PAD]', '[PAD]', '[PAD]', '[PAD]', '[PAD]', '[PAD]', '[PAD]', '[PAD]', '[PAD]', '[PAD]', '[PAD]', '[PAD]', '[PAD]', '[PAD]', '[PAD]', '[PAD]', '[PAD]', '[PAD]', '[PAD]', '[PAD]', '[PAD]', '[PAD]', '[PAD]', '[PAD]', '[PAD]', '[PAD]', '[PAD]', '[PAD]', '[PAD]', '[PAD]', '[PAD]', '[PAD]', '[PAD]', '[PAD]', '[PAD]', '[PAD]', '[PAD]', '[PAD]', '[PAD]', '[PAD]', '[PAD]', '[PAD]', '[PAD]', '[PAD]', '[PAD]', '[PAD]', '[PAD]', '[PAD]', '[PAD]', '[PAD]', '[PAD]', '[PAD]', '[PAD]', '[PAD]', '[PAD]', '[PAD]', '[PAD]', '[PAD]', '[PAD]', '[PAD]', '[PAD]', '[PAD]', '[PAD]', '[PAD]', '[PAD]', '[PAD]', '[PAD]', '[PAD]', '[PAD]', '[PAD]', '[PAD]', '[PAD]', '[PAD]', '[PAD]', '[PAD]', '[PAD]', '[PAD]', '[PAD]', '[PAD]', '[PAD]', '[PAD]', '[PAD]', '[PAD]', '[PAD]', '[PAD]', '[PAD]', '[PAD]', '[PAD]', '[PAD]', '[PAD]', '[PAD]', '[PAD]', '[PAD]', '[PAD]', '[PAD]', '[PAD]', '[PAD]', '[PAD]', '[PAD]', '[PAD]', '[PAD]', '[PAD]', '[PAD]', '[PAD]', '[PAD]', '[PAD]', '[PAD]', '[PAD]', '[PAD]', '[PAD]', '[PAD]', '[PAD]', '[PAD]', '[PAD]', '[PAD]', '[PAD]', '[PAD]', '[PAD]', '[PAD]', '[PAD]', '[PAD]', '[PAD]', '[PAD]', '[PAD]', '[PAD]', '[PAD]', '[PAD]', '[PAD]', '[PAD]', '[PAD]', '[PAD]', '[PAD]', '[PAD]', '[PAD]', '[PAD]', '[PAD]', '[PAD]', '[PAD]', '[PAD]', '[PAD]', '[PAD]', '[PAD]', '[PAD]', '[PAD]', '[PAD]', '[PAD]', '[PAD]', '[PAD]', '[PAD]', '[PAD]', '[PAD]', '[PAD]', '[PAD]', '[PAD]', '[PAD]', '[PAD]', '[PAD]', '[PAD]', '[PAD]', '[PAD]', '[PAD]', '[PAD]', '[PAD]', '[PAD]', '[PAD]', '[PAD]', '[PAD]', '[PAD]', '[PAD]', '[PAD]', '[PAD]', '[PAD]', '[PAD]', '[PAD]', '[PAD]', '[PAD]', '[PAD]', '[PAD]', '[PAD]', '[PAD]', '[PAD]', '[PAD]', '[PAD]', '[PAD]', '[PAD]', '[PAD]', '[PAD]', '[PAD]', '[PAD]', '[PAD]', '[PAD]', '[PAD]', '[PAD]', '[PAD]', '[PAD]', '[PAD]', '[PAD]', '[PAD]', '[PAD]', '[PAD]', '[PAD]', '[PAD]', '[PAD]', '[PAD]', '[PAD]', '[PAD]', '[PAD]', '[PAD]', '[PAD]', '[PAD]', '[PAD]', '[PAD]', '[PAD]', '[PAD]', '[PAD]', '[PAD]', '[PAD]', '[PAD]', '[PAD]', '[PAD]', '[PAD]', '[PAD]', '[PAD]', '[PAD]', '[PAD]', '[PAD]', '[PAD]', '[PAD]', '[PAD]', '[PAD]', '[PAD]', '[PAD]', '[PAD]', '[PAD]']\n",
            "[(0, 0), (0, 3), (3, 6), (7, 8), (8, 10), (11, 17), (17, 18), (19, 21), (21, 23), (23, 24), (24, 25), (26, 27), (28, 30), (31, 41), (42, 44), (45, 53), (54, 57), (58, 61), (61, 65), (65, 66), (67, 71), (72, 78), (79, 85), (86, 88), (89, 93), (93, 94), (95, 98), (99, 100), (101, 103), (104, 107), (108, 114), (114, 116), (116, 118), (118, 122), (123, 125), (126, 130), (131, 136), (136, 139), (139, 141), (142, 144), (145, 154), (155, 158), (158, 160), (160, 161), (162, 164), (164, 168), (168, 169), (170, 174), (174, 175), (176, 177), (178, 183), (183, 186), (186, 190), (190, 191), (192, 193), (194, 203), (204, 208), (209, 216), (217, 220), (221, 224), (225, 230), (231, 238), (238, 242), (242, 243), (244, 249), (249, 253), (254, 255), (256, 259), (259, 263), (264, 265), (266, 269), (270, 273), (274, 280), (281, 289), (289, 290), (291, 294), (295, 299), (300, 305), (306, 308), (309, 316), (316, 317), (318, 322), (323, 326), (327, 333), (334, 337), (338, 342), (343, 345), (346, 347), (348, 350), (351, 354), (355, 362), (363, 364), (364, 370), (371, 373), (373, 374), (374, 375), (375, 376), (377, 379), (380, 381), (381, 382), (382, 383), (384, 385), (385, 386), (387, 389), (389, 391), (391, 392), (392, 393), (394, 400), (401, 407), (408, 412), (413, 414), (415, 422), (423, 424), (425, 428), (428, 430), (431, 433), (434, 437), (437, 440), (441, 444), (445, 448), (449, 453), (454, 462), (463, 467), (468, 471), (471, 474), (475, 478), (478, 481), (481, 482), (0, 0), (0, 0), (0, 0), (0, 0), (0, 0), (0, 0), (0, 0), (0, 0), (0, 0), (0, 0), (0, 0), (0, 0), (0, 0), (0, 0), (0, 0), (0, 0), (0, 0), (0, 0), (0, 0), (0, 0), (0, 0), (0, 0), (0, 0), (0, 0), (0, 0), (0, 0), (0, 0), (0, 0), (0, 0), (0, 0), (0, 0), (0, 0), (0, 0), (0, 0), (0, 0), (0, 0), (0, 0), (0, 0), (0, 0), (0, 0), (0, 0), (0, 0), (0, 0), (0, 0), (0, 0), (0, 0), (0, 0), (0, 0), (0, 0), (0, 0), (0, 0), (0, 0), (0, 0), (0, 0), (0, 0), (0, 0), (0, 0), (0, 0), (0, 0), (0, 0), (0, 0), (0, 0), (0, 0), (0, 0), (0, 0), (0, 0), (0, 0), (0, 0), (0, 0), (0, 0), (0, 0), (0, 0), (0, 0), (0, 0), (0, 0), (0, 0), (0, 0), (0, 0), (0, 0), (0, 0), (0, 0), (0, 0), (0, 0), (0, 0), (0, 0), (0, 0), (0, 0), (0, 0), (0, 0), (0, 0), (0, 0), (0, 0), (0, 0), (0, 0), (0, 0), (0, 0), (0, 0), (0, 0), (0, 0), (0, 0), (0, 0), (0, 0), (0, 0), (0, 0), (0, 0), (0, 0), (0, 0), (0, 0), (0, 0), (0, 0), (0, 0), (0, 0), (0, 0), (0, 0), (0, 0), (0, 0), (0, 0), (0, 0), (0, 0), (0, 0), (0, 0), (0, 0), (0, 0), (0, 0), (0, 0), (0, 0), (0, 0), (0, 0), (0, 0), (0, 0), (0, 0), (0, 0), (0, 0), (0, 0), (0, 0), (0, 0), (0, 0), (0, 0), (0, 0), (0, 0), (0, 0), (0, 0), (0, 0), (0, 0), (0, 0), (0, 0), (0, 0), (0, 0), (0, 0), (0, 0), (0, 0), (0, 0), (0, 0), (0, 0), (0, 0), (0, 0), (0, 0), (0, 0), (0, 0), (0, 0), (0, 0), (0, 0), (0, 0), (0, 0), (0, 0), (0, 0), (0, 0), (0, 0), (0, 0), (0, 0), (0, 0), (0, 0), (0, 0), (0, 0), (0, 0), (0, 0), (0, 0), (0, 0), (0, 0), (0, 0), (0, 0), (0, 0), (0, 0), (0, 0), (0, 0), (0, 0), (0, 0), (0, 0), (0, 0), (0, 0), (0, 0), (0, 0), (0, 0), (0, 0), (0, 0), (0, 0), (0, 0), (0, 0), (0, 0), (0, 0), (0, 0), (0, 0), (0, 0), (0, 0), (0, 0), (0, 0), (0, 0), (0, 0), (0, 0), (0, 0), (0, 0), (0, 0), (0, 0), (0, 0), (0, 0), (0, 0), (0, 0), (0, 0), (0, 0), (0, 0), (0, 0), (0, 0), (0, 0), (0, 0), (0, 0), (0, 0), (0, 0), (0, 0), (0, 0), (0, 0), (0, 0), (0, 0), (0, 0), (0, 0), (0, 0), (0, 0), (0, 0), (0, 0), (0, 0), (0, 0), (0, 0), (0, 0), (0, 0), (0, 0), (0, 0), (0, 0), (0, 0), (0, 0), (0, 0), (0, 0), (0, 0), (0, 0), (0, 0), (0, 0), (0, 0), (0, 0), (0, 0), (0, 0), (0, 0), (0, 0), (0, 0), (0, 0), (0, 0), (0, 0), (0, 0), (0, 0), (0, 0), (0, 0), (0, 0), (0, 0), (0, 0), (0, 0), (0, 0), (0, 0), (0, 0), (0, 0), (0, 0), (0, 0), (0, 0), (0, 0), (0, 0), (0, 0), (0, 0), (0, 0), (0, 0), (0, 0), (0, 0), (0, 0), (0, 0), (0, 0), (0, 0), (0, 0), (0, 0), (0, 0), (0, 0), (0, 0), (0, 0), (0, 0), (0, 0), (0, 0), (0, 0), (0, 0), (0, 0), (0, 0), (0, 0), (0, 0), (0, 0), (0, 0), (0, 0), (0, 0), (0, 0), (0, 0), (0, 0), (0, 0), (0, 0), (0, 0), (0, 0), (0, 0), (0, 0), (0, 0), (0, 0), (0, 0), (0, 0), (0, 0), (0, 0), (0, 0), (0, 0), (0, 0), (0, 0), (0, 0), (0, 0), (0, 0), (0, 0), (0, 0), (0, 0), (0, 0), (0, 0), (0, 0), (0, 0), (0, 0), (0, 0), (0, 0), (0, 0), (0, 0), (0, 0), (0, 0), (0, 0), (0, 0), (0, 0), (0, 0), (0, 0), (0, 0), (0, 0), (0, 0), (0, 0), (0, 0), (0, 0), (0, 0), (0, 0), (0, 0), (0, 0), (0, 0), (0, 0), (0, 0), (0, 0), (0, 0), (0, 0), (0, 0), (0, 0), (0, 0), (0, 0), (0, 0), (0, 0), (0, 0), (0, 0), (0, 0), (0, 0), (0, 0), (0, 0), (0, 0), (0, 0), (0, 0), (0, 0), (0, 0)]\n",
            "['O', 'B-PESSOA', 'O', 'O', 'O', 'O', 'O', 'O', 'O', 'O', 'O', 'O', 'O', 'O', 'O', 'O', 'O', 'B-ORGANIZACAO', 'I-ORGANIZACAO', 'I-ORGANIZACAO', 'I-ORGANIZACAO', 'I-ORGANIZACAO', 'O', 'B-TEMPO', 'I-TEMPO', 'O', 'O', 'O', 'O', 'O', 'O', 'O', 'O', 'O', 'O', 'O', 'O', 'O', 'O', 'O', 'O', 'O', 'O', 'O', 'O', 'O', 'O', 'O', 'O', 'O', 'O', 'O', 'O', 'O', 'O', 'O', 'O', 'O', 'O', 'O', 'O', 'O', 'O', 'O', 'O', 'O', 'O', 'O', 'O', 'O', 'O', 'O', 'O', 'O', 'O', 'O', 'O', 'O', 'O', 'O', 'O', 'O', 'O', 'O', 'O', 'I-TEMPO', 'I-TEMPO', 'I-TEMPO', 'I-TEMPO', 'O', 'O', 'O', 'O', 'O', 'O', 'O', 'O', 'O', 'O', 'O', 'O', 'O', 'O', 'O', 'O', 'O', 'O', 'O', 'O', 'O', 'O', 'O', 'O', 'O', 'O', 'O', 'O', 'O', 'O', 'O', 'O', 'O', 'O', 'O', 'O', 'O', 'O', 'O', 'O', 'O', 'O', 'O', 'O', 'O', 'O', 'O', 'O', 'O', 'O', 'O', 'O', 'O', 'O', 'O', 'O', 'O', 'O', 'O', 'O', 'O', 'O', 'O', 'O', 'O', 'O', 'O', 'O', 'O', 'O', 'O', 'O', 'O', 'O', 'O', 'O', 'O', 'O', 'O', 'O', 'O', 'O', 'O', 'O', 'O', 'O', 'O', 'O', 'O', 'O', 'O', 'O', 'O', 'O', 'O', 'O', 'O', 'O', 'O', 'O', 'O', 'O', 'O', 'O', 'O', 'O', 'I-ORGANIZACAO', 'O', 'O', 'O', 'O', 'O', 'O', 'O', 'O', 'O', 'O', 'O', 'O', 'O', 'O', 'O', 'O', 'O', 'O', 'O', 'O', 'O', 'O', 'O', 'O', 'O', 'O', 'O', 'O', 'O', 'O', 'O', 'O', 'O', 'O', 'O', 'O', 'O', 'O', 'O', 'O', 'O', 'O', 'O', 'O', 'O', 'O', 'O', 'O', 'O', 'O', 'O', 'O', 'O', 'O', 'O', 'O', 'O', 'O', 'O', 'O', 'O', 'O', 'O', 'O', 'O', 'O', 'O', 'O', 'O', 'O', 'O', 'O', 'O', 'O', 'O', 'O', 'O', 'O', 'O', 'O', 'O', 'O', 'O', 'O', 'O', 'I-ORGANIZACAO', 'I-ORGANIZACAO', 'I-ORGANIZACAO', 'I-ORGANIZACAO', 'I-ORGANIZACAO', 'I-ORGANIZACAO', 'I-ORGANIZACAO', 'O', 'O', 'I-TEMPO', 'O', 'O', 'O', 'O', 'O', 'O', 'O', 'O', 'O', 'O', 'O', 'O', 'O', 'O', 'I-ORGANIZACAO', 'I-ORGANIZACAO', 'I-ORGANIZACAO', 'I-ORGANIZACAO', 'I-ORGANIZACAO', 'I-ORGANIZACAO', 'I-ORGANIZACAO', 'I-ORGANIZACAO', 'O', 'O', 'I-TEMPO', 'O', 'O', 'O', 'O', 'O', 'O', 'O', 'O', 'O', 'O', 'O', 'O', 'O', 'O', 'O', 'O', 'O', 'O', 'O', 'O', 'O', 'O', 'O', 'O', 'O', 'O', 'O', 'O', 'O', 'O', 'O', 'O', 'O', 'O', 'O', 'O', 'O', 'O', 'O', 'O', 'O', 'O', 'O', 'O', 'O', 'O', 'O', 'O', 'O', 'O', 'O', 'O', 'O', 'O', 'O', 'O', 'O', 'O', 'O', 'O', 'O', 'O', 'O', 'O', 'O', 'O', 'O', 'O', 'O', 'I-TEMPO', 'I-TEMPO', 'I-TEMPO', 'I-TEMPO', 'I-TEMPO', 'O', 'O', 'O', 'O', 'O', 'O', 'O', 'O', 'O', 'O', 'O', 'O', 'O', 'O', 'O', 'O', 'O', 'O', 'O', 'O', 'O', 'O', 'O', 'O', 'O', 'O', 'O', 'O', 'O', 'O', 'O', 'O', 'O', 'O', 'O', 'O', 'O', 'O', 'O', 'O', 'O', 'O', 'O', 'O', 'O', 'O', 'O', 'O', 'O', 'O', 'O', 'O', 'O', 'O', 'O', 'O', 'O', 'O', 'O', 'O', 'O', 'O', 'O', 'O', 'O', 'O', 'O', 'O', 'O', 'O', 'O', 'O', 'O', 'O', 'O', 'O', 'O', 'O', 'O', 'O', 'O', 'O', 'O', 'O', 'O', 'O', 'O', 'O', 'O', 'O', 'O', 'O', 'O', 'O', 'O', 'O', 'O', 'O', 'O', 'O', 'O', 'O', 'O', 'O', 'O', 'O', 'I-TEMPO', 'I-TEMPO', 'I-TEMPO', 'I-TEMPO', 'O', 'O', 'O', 'O', 'O', 'O', 'O', 'O', 'O', 'O', 'O', 'O']\n",
            "[',', 'pois', 'nos', 'curtas', 'dos', 'anos']\n",
            "['O', 'O', 'O', 'O', 'O', 'I-TEMPO']\n"
          ]
        }
      ]
    },
    {
      "cell_type": "code",
      "metadata": {
        "id": "Djv2zYddrwN2",
        "colab": {
          "base_uri": "https://localhost:8080/"
        },
        "outputId": "9d699a2e-f1d4-4533-c5d7-52a4e63310ac"
      },
      "source": [
        "batch_pred_span = mount_ner_prediction_spans_to_visualization(batch_encoding=real_test_batch_encoding,label_list=real_test_preds)"
      ],
      "execution_count": null,
      "outputs": [
        {
          "output_type": "stream",
          "name": "stdout",
          "text": [
            "Info - Encontrado uma entidade com prefixo I- sem uma entidade anterior com B-. Encoding(0,anos) Label(85,I-TEMPO)\n",
            "Info - Encontrado uma entidade com prefixo I- sem uma entidade anterior com B-. Encoding(0,50) Label(86,I-TEMPO)\n",
            "Info - Encontrado uma entidade com prefixo I- sem uma entidade anterior com B-. Encoding(0,e) Label(87,I-TEMPO)\n",
            "Info - Encontrado uma entidade com prefixo I- sem uma entidade anterior com B-. Encoding(0,60) Label(88,I-TEMPO)\n",
            "Info - Encontrado uma entidade com prefixo I- sem uma entidade anterior com B-. Encoding(4,04) Label(32,I-VALOR)\n",
            "Info - Encontrado uma entidade com prefixo I- sem uma entidade anterior com B-. Encoding(4,##7) Label(33,I-VALOR)\n",
            "Info - Encontrado uma entidade com prefixo I- sem uma entidade anterior com B-. Encoding(5,##vid) Label(9,I-ORGANIZACAO)\n",
            "Info - Encontrado uma entidade com prefixo I- sem uma entidade anterior com B-. Encoding(5,mês) Label(20,I-TEMPO)\n",
            "Info - Encontrado uma entidade com prefixo I- sem uma entidade anterior com B-. Encoding(5,domingo) Label(43,I-TEMPO)\n",
            "Info - Encontrado uma entidade com prefixo I- sem uma entidade anterior com B-. Encoding(5,AL) Label(62,I-ORGANIZACAO)\n"
          ]
        }
      ]
    },
    {
      "cell_type": "code",
      "metadata": {
        "colab": {
          "base_uri": "https://localhost:8080/",
          "height": 1000
        },
        "id": "CNgIr5gvkB-T",
        "outputId": "db6d0a5c-52b6-4e98-83a7-7d600aca388c"
      },
      "source": [
        "for idx,text in enumerate(real_batch_text):\n",
        "    show_line_markup(text, batch_pred_span[idx], palette=palette(GREEN))\n",
        "    #show_box_markup(text, batch_pred_span[idx])\n",
        "    print(' ')\n",
        "    print('-----------------------------------------------------------')\n",
        "    print(' ')"
      ],
      "execution_count": null,
      "outputs": [
        {
          "output_type": "display_data",
          "data": {
            "text/html": [
              "<div class=\"tex2jax_ignore\" style=\"white-space: pre-wrap\"><div><span style=\"display: inline-block; vertical-align: top\"></span><span style=\"display: inline-block; vertical-align: top; position: relative; margin-bottom: 11px\"><span style=\"border-bottom: 3px solid #a5d6a7; padding-bottom: 8px\">Pat</span><span style=\"font-size: 11px; line-height: 1; white-space: nowrap; text-shadow: 1px 1px 0px white; position: absolute; left: 0; bottom: -8px\">PESSOA</span></span><span style=\"display: inline-block; vertical-align: top\">eta (em inglês, Goofy) é um personagem de animação dos </span><span style=\"display: inline-block; vertical-align: top; position: relative; margin-bottom: 11px\"><span style=\"border-bottom: 3px solid #a5d6a7; padding-bottom: 8px\">Estúdios Walt Disney</span><span style=\"font-size: 11px; line-height: 1; white-space: nowrap; text-shadow: 1px 1px 0px white; position: absolute; left: 0; bottom: -8px\">ORGANIZACAO</span></span><span style=\"display: inline-block; vertical-align: top\"> </span></div><div><span style=\"display: inline-block; vertical-align: top\">criado </span><span style=\"display: inline-block; vertical-align: top; position: relative; margin-bottom: 11px\"><span style=\"border-bottom: 3px solid #a5d6a7; padding-bottom: 8px\">em 1932</span><span style=\"font-size: 11px; line-height: 1; white-space: nowrap; text-shadow: 1px 1px 0px white; position: absolute; left: 0; bottom: -8px\">TEMPO</span></span><span style=\"display: inline-block; vertical-align: top\">. Ele é um cão antropomórfico da raça Bloodhound de aparência </span></div><div><span style=\"display: inline-block; vertical-align: top\">magra, esguia, alta, e desengonçada. É conhecido pelo público por seu jeito </span></div><div><span style=\"display: inline-block; vertical-align: top\">atrapalhado, engraçado e bondoso e por seu chapéu singular. Seu nome seria um </span></div><div><span style=\"display: inline-block; vertical-align: top\">apelido, pois nos curtas dos anos 50 e 60 era chamado &quot;George Geef&quot; ou &quot;G. G. </span></div><div><span style=\"display: inline-block; vertical-align: top\">Goof&quot;. Fontes atuais como o desenho A Turma do Pateta dão seu nome completo como</span></div><div><span style=\"display: inline-block; vertical-align: top\"> Pateta Pateta.</span></div></div>"
            ],
            "text/plain": [
              "<IPython.core.display.HTML object>"
            ]
          },
          "metadata": {}
        },
        {
          "output_type": "stream",
          "name": "stdout",
          "text": [
            " \n",
            "-----------------------------------------------------------\n",
            " \n"
          ]
        },
        {
          "output_type": "display_data",
          "data": {
            "text/html": [
              "<div class=\"tex2jax_ignore\" style=\"white-space: pre-wrap\"><div><span style=\"display: inline-block; vertical-align: top\">O secretário-executivo do ministério, </span><span style=\"display: inline-block; vertical-align: top; position: relative; margin-bottom: 11px\"><span style=\"border-bottom: 3px solid #a5d6a7; padding-bottom: 8px\">Rodrigo Cruz</span><span style=\"font-size: 11px; line-height: 1; white-space: nowrap; text-shadow: 1px 1px 0px white; position: absolute; left: 0; bottom: -8px\">PESSOA</span></span><span style=\"display: inline-block; vertical-align: top\">, afirmou que o debate sobre a</span></div><div><span style=\"display: inline-block; vertical-align: top\"> campanha </span><span style=\"display: inline-block; vertical-align: top; position: relative; margin-bottom: 11px\"><span style=\"border-bottom: 3px solid #a5d6a7; padding-bottom: 8px\">202</span><span style=\"font-size: 11px; line-height: 1; white-space: nowrap; text-shadow: 1px 1px 0px white; position: absolute; left: 0; bottom: -8px\">TEMPO</span></span><span style=\"display: inline-block; vertical-align: top\">2 com especialistas envolveu diversas dúvidas e perguntas, tais </span></div><div><span style=\"display: inline-block; vertical-align: top\">como qual será o público-alvo da vacinação, quais imunizantes usar e quando </span></div><div><span style=\"display: inline-block; vertical-align: top\">aplicar as doses. &quot;Hoje o mundo não tem essas respostas&quot;, disse </span><span style=\"display: inline-block; vertical-align: top; position: relative; margin-bottom: 11px\"><span style=\"border-bottom: 3px solid #a5d6a7; padding-bottom: 8px\">Cruz</span><span style=\"font-size: 11px; line-height: 1; white-space: nowrap; text-shadow: 1px 1px 0px white; position: absolute; left: 0; bottom: -8px\">PESSOA</span></span><span style=\"display: inline-block; vertical-align: top\">. &quot;Diversos </span></div><div><span style=\"display: inline-block; vertical-align: top\">cenários foram elaborados e levamos em consideração de </span><span style=\"display: inline-block; vertical-align: top; position: relative; margin-bottom: 11px\"><span style=\"border-bottom: 3px solid #a5d6a7; padding-bottom: 8px\">2</span><span style=\"font-size: 11px; line-height: 1; white-space: nowrap; text-shadow: 1px 1px 0px white; position: absolute; left: 0; bottom: -8px\">VALOR</span></span><span style=\"display: inline-block; vertical-align: top\"> doses caso tenha </span></div><div><span style=\"display: inline-block; vertical-align: top\">ampliação de publico alvo, como menores de </span><span style=\"display: inline-block; vertical-align: top; position: relative; margin-bottom: 11px\"><span style=\"border-bottom: 3px solid #a5d6a7; padding-bottom: 8px\">12 anos</span><span style=\"font-size: 11px; line-height: 1; white-space: nowrap; text-shadow: 1px 1px 0px white; position: absolute; left: 0; bottom: -8px\">VALOR</span></span><span style=\"display: inline-block; vertical-align: top\">. Para o público de </span><span style=\"display: inline-block; vertical-align: top; position: relative; margin-bottom: 11px\"><span style=\"border-bottom: 3px solid #a5d6a7; padding-bottom: 8px\">18</span><span style=\"font-size: 11px; line-height: 1; white-space: nowrap; text-shadow: 1px 1px 0px white; position: absolute; left: 0; bottom: -8px\">VALOR</span></span><span style=\"display: inline-block; vertical-align: top\"> a </span><span style=\"display: inline-block; vertical-align: top; position: relative; margin-bottom: 11px\"><span style=\"border-bottom: 3px solid #a5d6a7; padding-bottom: 8px\">60 </span><span style=\"font-size: 11px; line-height: 1; white-space: nowrap; text-shadow: 1px 1px 0px white; position: absolute; left: 0; bottom: -8px\">VALOR</span></span><span style=\"display: inline-block; vertical-align: top\"></span></div><div><span style=\"display: inline-block; vertical-align: top\"></span><span style=\"display: inline-block; vertical-align: top; position: relative; margin-bottom: 11px\"><span style=\"border-bottom: 3px solid #a5d6a7; padding-bottom: 8px\">anos</span></span><span style=\"display: inline-block; vertical-align: top\">, vai ter </span><span style=\"display: inline-block; vertical-align: top; position: relative; margin-bottom: 11px\"><span style=\"border-bottom: 3px solid #a5d6a7; padding-bottom: 8px\">1</span><span style=\"font-size: 11px; line-height: 1; white-space: nowrap; text-shadow: 1px 1px 0px white; position: absolute; left: 0; bottom: -8px\">VALOR</span></span><span style=\"display: inline-block; vertical-align: top\"> dose. E </span><span style=\"display: inline-block; vertical-align: top; position: relative; margin-bottom: 11px\"><span style=\"border-bottom: 3px solid #a5d6a7; padding-bottom: 8px\">mais de 60</span><span style=\"font-size: 11px; line-height: 1; white-space: nowrap; text-shadow: 1px 1px 0px white; position: absolute; left: 0; bottom: -8px\">VALOR</span></span><span style=\"display: inline-block; vertical-align: top\"> e imunossuprimidos, vão ter </span><span style=\"display: inline-block; vertical-align: top; position: relative; margin-bottom: 11px\"><span style=\"border-bottom: 3px solid #a5d6a7; padding-bottom: 8px\">2</span><span style=\"font-size: 11px; line-height: 1; white-space: nowrap; text-shadow: 1px 1px 0px white; position: absolute; left: 0; bottom: -8px\">VALOR</span></span><span style=\"display: inline-block; vertical-align: top\"> doses. Esse é o</span></div><div><span style=\"display: inline-block; vertical-align: top\"> cenário escolhido para </span><span style=\"display: inline-block; vertical-align: top; position: relative; margin-bottom: 11px\"><span style=\"border-bottom: 3px solid #a5d6a7; padding-bottom: 8px\">2022</span><span style=\"font-size: 11px; line-height: 1; white-space: nowrap; text-shadow: 1px 1px 0px white; position: absolute; left: 0; bottom: -8px\">TEMPO</span></span><span style=\"display: inline-block; vertical-align: top\"> e por faixa etária decrescente. Nesse primeiro </span></div><div><span style=\"display: inline-block; vertical-align: top\">momento&quot;, reforçou </span><span style=\"display: inline-block; vertical-align: top; position: relative; margin-bottom: 11px\"><span style=\"border-bottom: 3px solid #a5d6a7; padding-bottom: 8px\">Cruz</span><span style=\"font-size: 11px; line-height: 1; white-space: nowrap; text-shadow: 1px 1px 0px white; position: absolute; left: 0; bottom: -8px\">PESSOA</span></span><span style=\"display: inline-block; vertical-align: top\">.</span></div></div>"
            ],
            "text/plain": [
              "<IPython.core.display.HTML object>"
            ]
          },
          "metadata": {}
        },
        {
          "output_type": "stream",
          "name": "stdout",
          "text": [
            " \n",
            "-----------------------------------------------------------\n",
            " \n"
          ]
        },
        {
          "output_type": "display_data",
          "data": {
            "text/html": [
              "<div class=\"tex2jax_ignore\" style=\"white-space: pre-wrap\"><div><span style=\"display: inline-block; vertical-align: top\"></span><span style=\"display: inline-block; vertical-align: top; position: relative; margin-bottom: 11px\"><span style=\"border-bottom: 3px solid #a5d6a7; padding-bottom: 8px\">Nesta quinta</span><span style=\"font-size: 11px; line-height: 1; white-space: nowrap; text-shadow: 1px 1px 0px white; position: absolute; left: 0; bottom: -8px\">TEMPO</span></span><span style=\"display: inline-block; vertical-align: top\">-feira (</span><span style=\"display: inline-block; vertical-align: top; position: relative; margin-bottom: 11px\"><span style=\"border-bottom: 3px solid #a5d6a7; padding-bottom: 8px\">7</span><span style=\"font-size: 11px; line-height: 1; white-space: nowrap; text-shadow: 1px 1px 0px white; position: absolute; left: 0; bottom: -8px\">TEMPO</span></span><span style=\"display: inline-block; vertical-align: top\">), o Masters 1000 de </span><span style=\"display: inline-block; vertical-align: top; position: relative; margin-bottom: 11px\"><span style=\"border-bottom: 3px solid #a5d6a7; padding-bottom: 8px\">Indian Wells</span><span style=\"font-size: 11px; line-height: 1; white-space: nowrap; text-shadow: 1px 1px 0px white; position: absolute; left: 0; bottom: -8px\">LOCAL</span></span><span style=\"display: inline-block; vertical-align: top\"> volta a ser disputado </span></div><div><span style=\"display: inline-block; vertical-align: top\">oficialmente. Conhecido como o &quot;quinto Grand Slam&quot; por conta da estrutura e do </span></div><div><span style=\"display: inline-block; vertical-align: top\">tamanho da chave com relação às outras competições desse nível, o torneio foi o </span></div><div><span style=\"display: inline-block; vertical-align: top\">primeiro a ser cancelado </span><span style=\"display: inline-block; vertical-align: top; position: relative; margin-bottom: 11px\"><span style=\"border-bottom: 3px solid #a5d6a7; padding-bottom: 8px\">no ano passado</span><span style=\"font-size: 11px; line-height: 1; white-space: nowrap; text-shadow: 1px 1px 0px white; position: absolute; left: 0; bottom: -8px\">TEMPO</span></span><span style=\"display: inline-block; vertical-align: top\"> por conta da pandemia do novo </span></div><div><span style=\"display: inline-block; vertical-align: top\">Coronavírus e chegou a ser adiado </span><span style=\"display: inline-block; vertical-align: top; position: relative; margin-bottom: 11px\"><span style=\"border-bottom: 3px solid #a5d6a7; padding-bottom: 8px\">em</span><span style=\"font-size: 11px; line-height: 1; white-space: nowrap; text-shadow: 1px 1px 0px white; position: absolute; left: 0; bottom: -8px\">TEMPO</span></span><span style=\"display: inline-block; vertical-align: top\"> </span><span style=\"display: inline-block; vertical-align: top; position: relative; margin-bottom: 11px\"><span style=\"border-bottom: 3px solid #a5d6a7; padding-bottom: 8px\">2021</span><span style=\"font-size: 11px; line-height: 1; white-space: nowrap; text-shadow: 1px 1px 0px white; position: absolute; left: 0; bottom: -8px\">TEMPO</span></span><span style=\"display: inline-block; vertical-align: top\">, mas enfim vai acontecer. De quebra, </span></div><div><span style=\"display: inline-block; vertical-align: top\">retorna com um atrativo garantido: um campeão inédito será coroado na </span></div><div><span style=\"display: inline-block; vertical-align: top\"></span><span style=\"display: inline-block; vertical-align: top; position: relative; margin-bottom: 11px\"><span style=\"border-bottom: 3px solid #a5d6a7; padding-bottom: 8px\">Califórnia</span><span style=\"font-size: 11px; line-height: 1; white-space: nowrap; text-shadow: 1px 1px 0px white; position: absolute; left: 0; bottom: -8px\">LOCAL</span></span><span style=\"display: inline-block; vertical-align: top\">.</span></div></div>"
            ],
            "text/plain": [
              "<IPython.core.display.HTML object>"
            ]
          },
          "metadata": {}
        },
        {
          "output_type": "stream",
          "name": "stdout",
          "text": [
            " \n",
            "-----------------------------------------------------------\n",
            " \n"
          ]
        },
        {
          "output_type": "display_data",
          "data": {
            "text/html": [
              "<div class=\"tex2jax_ignore\" style=\"white-space: pre-wrap\"><div><span style=\"display: inline-block; vertical-align: top\">O sistema operacional Unix foi concebido e implementado </span><span style=\"display: inline-block; vertical-align: top; position: relative; margin-bottom: 11px\"><span style=\"border-bottom: 3px solid #a5d6a7; padding-bottom: 8px\">em 1969</span><span style=\"font-size: 11px; line-height: 1; white-space: nowrap; text-shadow: 1px 1px 0px white; position: absolute; left: 0; bottom: -8px\">TEMPO</span></span><span style=\"display: inline-block; vertical-align: top\"> pela </span><span style=\"display: inline-block; vertical-align: top; position: relative; margin-bottom: 11px\"><span style=\"border-bottom: 3px solid #a5d6a7; padding-bottom: 8px\">AT&amp;T Bell </span><span style=\"font-size: 11px; line-height: 1; white-space: nowrap; text-shadow: 1px 1px 0px white; position: absolute; left: 0; bottom: -8px\">ORGANIZACAO</span></span><span style=\"display: inline-block; vertical-align: top\"></span></div><div><span style=\"display: inline-block; vertical-align: top\"></span><span style=\"display: inline-block; vertical-align: top; position: relative; margin-bottom: 11px\"><span style=\"border-bottom: 3px solid #a5d6a7; padding-bottom: 8px\">Laboratories</span></span><span style=\"display: inline-block; vertical-align: top\"> nos </span><span style=\"display: inline-block; vertical-align: top; position: relative; margin-bottom: 11px\"><span style=\"border-bottom: 3px solid #a5d6a7; padding-bottom: 8px\">Estados Unidos</span><span style=\"font-size: 11px; line-height: 1; white-space: nowrap; text-shadow: 1px 1px 0px white; position: absolute; left: 0; bottom: -8px\">LOCAL</span></span><span style=\"display: inline-block; vertical-align: top\"> por </span><span style=\"display: inline-block; vertical-align: top; position: relative; margin-bottom: 11px\"><span style=\"border-bottom: 3px solid #a5d6a7; padding-bottom: 8px\">Ken Thompson</span><span style=\"font-size: 11px; line-height: 1; white-space: nowrap; text-shadow: 1px 1px 0px white; position: absolute; left: 0; bottom: -8px\">PESSOA</span></span><span style=\"display: inline-block; vertical-align: top\">, </span><span style=\"display: inline-block; vertical-align: top; position: relative; margin-bottom: 11px\"><span style=\"border-bottom: 3px solid #a5d6a7; padding-bottom: 8px\">Dennis Ritchie</span><span style=\"font-size: 11px; line-height: 1; white-space: nowrap; text-shadow: 1px 1px 0px white; position: absolute; left: 0; bottom: -8px\">PESSOA</span></span><span style=\"display: inline-block; vertical-align: top\">, </span><span style=\"display: inline-block; vertical-align: top; position: relative; margin-bottom: 11px\"><span style=\"border-bottom: 3px solid #a5d6a7; padding-bottom: 8px\">Douglas </span><span style=\"font-size: 11px; line-height: 1; white-space: nowrap; text-shadow: 1px 1px 0px white; position: absolute; left: 0; bottom: -8px\">PESSOA</span></span><span style=\"display: inline-block; vertical-align: top\"></span></div><div><span style=\"display: inline-block; vertical-align: top\"></span><span style=\"display: inline-block; vertical-align: top; position: relative; margin-bottom: 11px\"><span style=\"border-bottom: 3px solid #a5d6a7; padding-bottom: 8px\">McIlroy</span></span><span style=\"display: inline-block; vertical-align: top\">, e </span><span style=\"display: inline-block; vertical-align: top; position: relative; margin-bottom: 11px\"><span style=\"border-bottom: 3px solid #a5d6a7; padding-bottom: 8px\">Joe Ossanna</span><span style=\"font-size: 11px; line-height: 1; white-space: nowrap; text-shadow: 1px 1px 0px white; position: absolute; left: 0; bottom: -8px\">PESSOA</span></span><span style=\"display: inline-block; vertical-align: top\">. Lançado pela primeira vez </span><span style=\"display: inline-block; vertical-align: top; position: relative; margin-bottom: 11px\"><span style=\"border-bottom: 3px solid #a5d6a7; padding-bottom: 8px\">em</span><span style=\"font-size: 11px; line-height: 1; white-space: nowrap; text-shadow: 1px 1px 0px white; position: absolute; left: 0; bottom: -8px\">TEMPO</span></span><span style=\"display: inline-block; vertical-align: top\"> </span><span style=\"display: inline-block; vertical-align: top; position: relative; margin-bottom: 11px\"><span style=\"border-bottom: 3px solid #a5d6a7; padding-bottom: 8px\">1971</span><span style=\"font-size: 11px; line-height: 1; white-space: nowrap; text-shadow: 1px 1px 0px white; position: absolute; left: 0; bottom: -8px\">TEMPO</span></span><span style=\"display: inline-block; vertical-align: top\">, o Unix foi escrito </span></div><div><span style=\"display: inline-block; vertical-align: top\">inteiramente em linguagem assembly uma prática comum para a época. Mais tarde, </span></div><div><span style=\"display: inline-block; vertical-align: top\"></span><span style=\"display: inline-block; vertical-align: top; position: relative; margin-bottom: 11px\"><span style=\"border-bottom: 3px solid #a5d6a7; padding-bottom: 8px\">em</span><span style=\"font-size: 11px; line-height: 1; white-space: nowrap; text-shadow: 1px 1px 0px white; position: absolute; left: 0; bottom: -8px\">TEMPO</span></span><span style=\"display: inline-block; vertical-align: top\"> </span><span style=\"display: inline-block; vertical-align: top; position: relative; margin-bottom: 11px\"><span style=\"border-bottom: 3px solid #a5d6a7; padding-bottom: 8px\">1973</span><span style=\"font-size: 11px; line-height: 1; white-space: nowrap; text-shadow: 1px 1px 0px white; position: absolute; left: 0; bottom: -8px\">TEMPO</span></span><span style=\"display: inline-block; vertical-align: top\">, o sistema foi reescrito na linguagem de programação C por </span><span style=\"display: inline-block; vertical-align: top; position: relative; margin-bottom: 11px\"><span style=\"border-bottom: 3px solid #a5d6a7; padding-bottom: 8px\">Dennis </span><span style=\"font-size: 11px; line-height: 1; white-space: nowrap; text-shadow: 1px 1px 0px white; position: absolute; left: 0; bottom: -8px\">PESSOA</span></span><span style=\"display: inline-block; vertical-align: top\"></span></div><div><span style=\"display: inline-block; vertical-align: top\"></span><span style=\"display: inline-block; vertical-align: top; position: relative; margin-bottom: 11px\"><span style=\"border-bottom: 3px solid #a5d6a7; padding-bottom: 8px\">Ritchie</span></span><span style=\"display: inline-block; vertical-align: top\">.[10] A disponibilidade de uma implementação do Unix feita em linguagem </span></div><div><span style=\"display: inline-block; vertical-align: top\">de alto nível fez a sua portabilidade para diferentes plataformas de computador </span></div><div><span style=\"display: inline-block; vertical-align: top\">se tornarem mais fácil. Na época, a maioria dos programas era escrita em cartões</span></div><div><span style=\"display: inline-block; vertical-align: top\"> perfurados que tinham de ser inseridos em lotes em computadores mainframe.</span></div></div>"
            ],
            "text/plain": [
              "<IPython.core.display.HTML object>"
            ]
          },
          "metadata": {}
        },
        {
          "output_type": "stream",
          "name": "stdout",
          "text": [
            " \n",
            "-----------------------------------------------------------\n",
            " \n"
          ]
        },
        {
          "output_type": "display_data",
          "data": {
            "text/html": [
              "<div class=\"tex2jax_ignore\" style=\"white-space: pre-wrap\"><div><span style=\"display: inline-block; vertical-align: top\">O </span><span style=\"display: inline-block; vertical-align: top; position: relative; margin-bottom: 11px\"><span style=\"border-bottom: 3px solid #a5d6a7; padding-bottom: 8px\">Brasil</span><span style=\"font-size: 11px; line-height: 1; white-space: nowrap; text-shadow: 1px 1px 0px white; position: absolute; left: 0; bottom: -8px\">LOCAL</span></span><span style=\"display: inline-block; vertical-align: top\"> registrou </span><span style=\"display: inline-block; vertical-align: top; position: relative; margin-bottom: 11px\"><span style=\"border-bottom: 3px solid #a5d6a7; padding-bottom: 8px\">neste domingo</span><span style=\"font-size: 11px; line-height: 1; white-space: nowrap; text-shadow: 1px 1px 0px white; position: absolute; left: 0; bottom: -8px\">TEMPO</span></span><span style=\"display: inline-block; vertical-align: top\"> (</span><span style=\"display: inline-block; vertical-align: top; position: relative; margin-bottom: 11px\"><span style=\"border-bottom: 3px solid #a5d6a7; padding-bottom: 8px\">10</span><span style=\"font-size: 11px; line-height: 1; white-space: nowrap; text-shadow: 1px 1px 0px white; position: absolute; left: 0; bottom: -8px\">TEMPO</span></span><span style=\"display: inline-block; vertical-align: top\">) </span><span style=\"display: inline-block; vertical-align: top; position: relative; margin-bottom: 11px\"><span style=\"border-bottom: 3px solid #a5d6a7; padding-bottom: 8px\">167</span><span style=\"font-size: 11px; line-height: 1; white-space: nowrap; text-shadow: 1px 1px 0px white; position: absolute; left: 0; bottom: -8px\">VALOR</span></span><span style=\"display: inline-block; vertical-align: top\"> mortes por Covid-</span><span style=\"display: inline-block; vertical-align: top; position: relative; margin-bottom: 11px\"><span style=\"border-bottom: 3px solid #a5d6a7; padding-bottom: 8px\">19</span><span style=\"font-size: 11px; line-height: 1; white-space: nowrap; text-shadow: 1px 1px 0px white; position: absolute; left: 0; bottom: -8px\">VALOR</span></span><span style=\"display: inline-block; vertical-align: top\"> </span><span style=\"display: inline-block; vertical-align: top; position: relative; margin-bottom: 11px\"><span style=\"border-bottom: 3px solid #a5d6a7; padding-bottom: 8px\">nas últimas 24 </span><span style=\"font-size: 11px; line-height: 1; white-space: nowrap; text-shadow: 1px 1px 0px white; position: absolute; left: 0; bottom: -8px\">TEMPO</span></span><span style=\"display: inline-block; vertical-align: top\"></span></div><div><span style=\"display: inline-block; vertical-align: top\"></span><span style=\"display: inline-block; vertical-align: top; position: relative; margin-bottom: 11px\"><span style=\"border-bottom: 3px solid #a5d6a7; padding-bottom: 8px\">horas</span></span><span style=\"display: inline-block; vertical-align: top\">, com o total de óbitos chegando a </span><span style=\"display: inline-block; vertical-align: top; position: relative; margin-bottom: 11px\"><span style=\"border-bottom: 3px solid #a5d6a7; padding-bottom: 8px\">601</span><span style=\"font-size: 11px; line-height: 1; white-space: nowrap; text-shadow: 1px 1px 0px white; position: absolute; left: 0; bottom: -8px\">VALOR</span></span><span style=\"display: inline-block; vertical-align: top\">.047 desde o início da pandemia. Com </span></div><div><span style=\"display: inline-block; vertical-align: top\">isso, a média móvel de mortes </span><span style=\"display: inline-block; vertical-align: top; position: relative; margin-bottom: 11px\"><span style=\"border-bottom: 3px solid #a5d6a7; padding-bottom: 8px\">nos últimos 7 dias</span><span style=\"font-size: 11px; line-height: 1; white-space: nowrap; text-shadow: 1px 1px 0px white; position: absolute; left: 0; bottom: -8px\">TEMPO</span></span><span style=\"display: inline-block; vertical-align: top\"> ficou em </span><span style=\"display: inline-block; vertical-align: top; position: relative; margin-bottom: 11px\"><span style=\"border-bottom: 3px solid #a5d6a7; padding-bottom: 8px\">437</span><span style=\"font-size: 11px; line-height: 1; white-space: nowrap; text-shadow: 1px 1px 0px white; position: absolute; left: 0; bottom: -8px\">VALOR</span></span><span style=\"display: inline-block; vertical-align: top\"> --a menor </span></div><div><span style=\"display: inline-block; vertical-align: top\">registrada desde </span><span style=\"display: inline-block; vertical-align: top; position: relative; margin-bottom: 11px\"><span style=\"border-bottom: 3px solid #a5d6a7; padding-bottom: 8px\">13 de novembro de 2020</span><span style=\"font-size: 11px; line-height: 1; white-space: nowrap; text-shadow: 1px 1px 0px white; position: absolute; left: 0; bottom: -8px\">TEMPO</span></span><span style=\"display: inline-block; vertical-align: top\"> (quando estava em </span><span style=\"display: inline-block; vertical-align: top; position: relative; margin-bottom: 11px\"><span style=\"border-bottom: 3px solid #a5d6a7; padding-bottom: 8px\">403</span><span style=\"font-size: 11px; line-height: 1; white-space: nowrap; text-shadow: 1px 1px 0px white; position: absolute; left: 0; bottom: -8px\">VALOR</span></span><span style=\"display: inline-block; vertical-align: top\">). Em comparação à </span></div><div><span style=\"display: inline-block; vertical-align: top\">média </span><span style=\"display: inline-block; vertical-align: top; position: relative; margin-bottom: 11px\"><span style=\"border-bottom: 3px solid #a5d6a7; padding-bottom: 8px\">de 14 dias atrás</span><span style=\"font-size: 11px; line-height: 1; white-space: nowrap; text-shadow: 1px 1px 0px white; position: absolute; left: 0; bottom: -8px\">TEMPO</span></span><span style=\"display: inline-block; vertical-align: top\">, a variação foi de </span><span style=\"display: inline-block; vertical-align: top; position: relative; margin-bottom: 11px\"><span style=\"border-bottom: 3px solid #a5d6a7; padding-bottom: 8px\">-17%</span><span style=\"font-size: 11px; line-height: 1; white-space: nowrap; text-shadow: 1px 1px 0px white; position: absolute; left: 0; bottom: -8px\">VALOR</span></span><span style=\"display: inline-block; vertical-align: top\"> e aponta queda.</span></div></div>"
            ],
            "text/plain": [
              "<IPython.core.display.HTML object>"
            ]
          },
          "metadata": {}
        },
        {
          "output_type": "stream",
          "name": "stdout",
          "text": [
            " \n",
            "-----------------------------------------------------------\n",
            " \n"
          ]
        },
        {
          "output_type": "display_data",
          "data": {
            "text/html": [
              "<div class=\"tex2jax_ignore\" style=\"white-space: pre-wrap\"><div><span style=\"display: inline-block; vertical-align: top\">O relatório final da CPI da Covid no </span><span style=\"display: inline-block; vertical-align: top; position: relative; margin-bottom: 11px\"><span style=\"border-bottom: 3px solid #a5d6a7; padding-bottom: 8px\">Senado</span><span style=\"font-size: 11px; line-height: 1; white-space: nowrap; text-shadow: 1px 1px 0px white; position: absolute; left: 0; bottom: -8px\">LOCAL</span></span><span style=\"display: inline-block; vertical-align: top\">, a ser apresentado e votado ainda </span></div><div><span style=\"display: inline-block; vertical-align: top\">neste mês, deve listar pelo menos </span><span style=\"display: inline-block; vertical-align: top; position: relative; margin-bottom: 11px\"><span style=\"border-bottom: 3px solid #a5d6a7; padding-bottom: 8px\">11</span><span style=\"font-size: 11px; line-height: 1; white-space: nowrap; text-shadow: 1px 1px 0px white; position: absolute; left: 0; bottom: -8px\">VALOR</span></span><span style=\"display: inline-block; vertical-align: top\"> crimes atribuídos ao </span><span style=\"display: inline-block; vertical-align: top; position: relative; margin-bottom: 11px\"><span style=\"border-bottom: 3px solid #a5d6a7; padding-bottom: 8px\">presidente</span><span style=\"font-size: 11px; line-height: 1; white-space: nowrap; text-shadow: 1px 1px 0px white; position: absolute; left: 0; bottom: -8px\">PESSOA</span></span><span style=\"display: inline-block; vertical-align: top\"> </span><span style=\"display: inline-block; vertical-align: top; position: relative; margin-bottom: 11px\"><span style=\"border-bottom: 3px solid #a5d6a7; padding-bottom: 8px\">Jair </span><span style=\"font-size: 11px; line-height: 1; white-space: nowrap; text-shadow: 1px 1px 0px white; position: absolute; left: 0; bottom: -8px\">PESSOA</span></span><span style=\"display: inline-block; vertical-align: top\"></span></div><div><span style=\"display: inline-block; vertical-align: top\"></span><span style=\"display: inline-block; vertical-align: top; position: relative; margin-bottom: 11px\"><span style=\"border-bottom: 3px solid #a5d6a7; padding-bottom: 8px\">Bolsonaro</span></span><span style=\"display: inline-block; vertical-align: top\">, afirmou à </span><span style=\"display: inline-block; vertical-align: top; position: relative; margin-bottom: 11px\"><span style=\"border-bottom: 3px solid #a5d6a7; padding-bottom: 8px\">GloboNews</span><span style=\"font-size: 11px; line-height: 1; white-space: nowrap; text-shadow: 1px 1px 0px white; position: absolute; left: 0; bottom: -8px\">ORGANIZACAO</span></span><span style=\"display: inline-block; vertical-align: top\"> neste domingo (</span><span style=\"display: inline-block; vertical-align: top; position: relative; margin-bottom: 11px\"><span style=\"border-bottom: 3px solid #a5d6a7; padding-bottom: 8px\">10</span><span style=\"font-size: 11px; line-height: 1; white-space: nowrap; text-shadow: 1px 1px 0px white; position: absolute; left: 0; bottom: -8px\">TEMPO</span></span><span style=\"display: inline-block; vertical-align: top\">) o relator da comissão, </span><span style=\"display: inline-block; vertical-align: top; position: relative; margin-bottom: 11px\"><span style=\"border-bottom: 3px solid #a5d6a7; padding-bottom: 8px\">senador</span><span style=\"font-size: 11px; line-height: 1; white-space: nowrap; text-shadow: 1px 1px 0px white; position: absolute; left: 0; bottom: -8px\">PESSOA</span></span><span style=\"display: inline-block; vertical-align: top\"></span></div><div><span style=\"display: inline-block; vertical-align: top\"> </span><span style=\"display: inline-block; vertical-align: top; position: relative; margin-bottom: 11px\"><span style=\"border-bottom: 3px solid #a5d6a7; padding-bottom: 8px\">Renan Calheiros</span><span style=\"font-size: 11px; line-height: 1; white-space: nowrap; text-shadow: 1px 1px 0px white; position: absolute; left: 0; bottom: -8px\">PESSOA</span></span><span style=\"display: inline-block; vertical-align: top\"> (</span><span style=\"display: inline-block; vertical-align: top; position: relative; margin-bottom: 11px\"><span style=\"border-bottom: 3px solid #a5d6a7; padding-bottom: 8px\">MDB</span><span style=\"font-size: 11px; line-height: 1; white-space: nowrap; text-shadow: 1px 1px 0px white; position: absolute; left: 0; bottom: -8px\">ORGANIZACAO</span></span><span style=\"display: inline-block; vertical-align: top\">-AL). A lista, segundo </span><span style=\"display: inline-block; vertical-align: top; position: relative; margin-bottom: 11px\"><span style=\"border-bottom: 3px solid #a5d6a7; padding-bottom: 8px\">Renan</span><span style=\"font-size: 11px; line-height: 1; white-space: nowrap; text-shadow: 1px 1px 0px white; position: absolute; left: 0; bottom: -8px\">PESSOA</span></span><span style=\"display: inline-block; vertical-align: top\">, inclui crimes de </span></div><div><span style=\"display: inline-block; vertical-align: top\">responsabilidade, crimes contra a saúde pública e mesmo crimes contra a </span></div><div><span style=\"display: inline-block; vertical-align: top\">humanidade, além de condutas previstas no Código Penal.</span></div></div>"
            ],
            "text/plain": [
              "<IPython.core.display.HTML object>"
            ]
          },
          "metadata": {}
        },
        {
          "output_type": "stream",
          "name": "stdout",
          "text": [
            " \n",
            "-----------------------------------------------------------\n",
            " \n"
          ]
        }
      ]
    }
  ]
}